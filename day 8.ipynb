{
 "cells": [
  {
   "cell_type": "markdown",
   "id": "9501bcbd-2d8a-4a56-9eeb-d75152d88811",
   "metadata": {},
   "source": [
    "# day - 8"
   ]
  },
  {
   "cell_type": "markdown",
   "id": "eda228f2-37d4-427b-af2b-d40726d71e30",
   "metadata": {},
   "source": [
    "# Lists in python"
   ]
  },
  {
   "cell_type": "markdown",
   "id": "301412f2-3c62-41d6-a365-cbfb8ebd87d6",
   "metadata": {},
   "source": [
    "# creating a list"
   ]
  },
  {
   "cell_type": "code",
   "execution_count": 1,
   "id": "12245b0b-48c2-44cf-8a83-cdd86bfad4f8",
   "metadata": {},
   "outputs": [
    {
     "name": "stdout",
     "output_type": "stream",
     "text": [
      "['apple', 'banana', 'cherry']\n",
      "<class 'list'>\n"
     ]
    }
   ],
   "source": [
    "mylist = [\"apple\",\"banana\",\"cherry\"]\n",
    "print(mylist)\n",
    "print(type(mylist))"
   ]
  },
  {
   "cell_type": "markdown",
   "id": "55003c8f-f266-49a3-8370-78b060324a2f",
   "metadata": {},
   "source": [
    "# allow duplicates"
   ]
  },
  {
   "cell_type": "code",
   "execution_count": 2,
   "id": "4de6bb08-14ea-4fed-bbb2-ad638e64d722",
   "metadata": {},
   "outputs": [
    {
     "name": "stdout",
     "output_type": "stream",
     "text": [
      "['apple', 'banana', 'apple', 'cherry', 'banana', 'apple']\n"
     ]
    }
   ],
   "source": [
    "mylist =[\"apple\",\"banana\",\"apple\",\"cherry\",\"banana\",\"apple\"]\n",
    "print(mylist)"
   ]
  },
  {
   "cell_type": "code",
   "execution_count": 3,
   "id": "f9a099f9-8f70-40ff-957c-8e3d6a8876d2",
   "metadata": {},
   "outputs": [
    {
     "name": "stdout",
     "output_type": "stream",
     "text": [
      "['apple', 'banana', 'cherry']\n",
      "[2, 5, 8]\n",
      "[7.8, 8.2, 9.5]\n",
      "[True, False, True]\n"
     ]
    }
   ],
   "source": [
    "list1 =[\"apple\",\"banana\",\"cherry\"]\n",
    "list2 =[2,5,8]\n",
    "list3 =[7.8,8.2,9.5]\n",
    "list4 =[True,False,True]\n",
    "print(list1)\n",
    "print(list2)\n",
    "print(list3)\n",
    "print(list4)"
   ]
  },
  {
   "cell_type": "code",
   "execution_count": 5,
   "id": "a5f38fa3-65d0-4af0-9226-88a272e34756",
   "metadata": {},
   "outputs": [
    {
     "name": "stdout",
     "output_type": "stream",
     "text": [
      "[12, -8, 5, -56, 8.4, 7.9, 'students', 'hello', True, False]\n"
     ]
    }
   ],
   "source": [
    "a = [12,-8,5,-56,8.4,7.9,\"students\",\"hello\",True,False]\n",
    "print(a)"
   ]
  },
  {
   "cell_type": "markdown",
   "id": "ebcdde35-a18f-4bb7-8818-31af3db2bcd2",
   "metadata": {},
   "source": [
    "# List length"
   ]
  },
  {
   "cell_type": "code",
   "execution_count": 6,
   "id": "2e32d353-b2ac-4abd-8bc4-7d1423e504ee",
   "metadata": {},
   "outputs": [
    {
     "name": "stdout",
     "output_type": "stream",
     "text": [
      "10\n"
     ]
    }
   ],
   "source": [
    "a =[12,-8,5,-56,3.6,34,\"students\",\"hello\",True,False]\n",
    "print(len(a))"
   ]
  },
  {
   "cell_type": "code",
   "execution_count": 7,
   "id": "ed979232-beb1-4944-ab6d-f28297d1257e",
   "metadata": {},
   "outputs": [
    {
     "name": "stdout",
     "output_type": "stream",
     "text": [
      "10\n"
     ]
    }
   ],
   "source": [
    "b =[15,8,9,3,4,6,7,8,9,25]\n",
    "print(len(b))"
   ]
  },
  {
   "cell_type": "markdown",
   "id": "44639c94-83ce-407b-ab34-22f08d85f3a1",
   "metadata": {},
   "source": [
    "# Access Items"
   ]
  },
  {
   "cell_type": "code",
   "execution_count": 10,
   "id": "89814e6b-0c12-4b80-a486-ef66fae35a39",
   "metadata": {},
   "outputs": [
    {
     "name": "stdout",
     "output_type": "stream",
     "text": [
      "25\n"
     ]
    }
   ],
   "source": [
    "thelist = [12,25,15,26,78,96,45,22,56,89]\n",
    "print(thelist[1])"
   ]
  },
  {
   "cell_type": "markdown",
   "id": "041a2a49-ab39-4535-9fbc-86b9b65eaffc",
   "metadata": {},
   "source": [
    "# Slicing of list"
   ]
  },
  {
   "cell_type": "code",
   "execution_count": 12,
   "id": "b4635ef9-0bba-4629-9c6b-3d38fda6f205",
   "metadata": {},
   "outputs": [
    {
     "name": "stdout",
     "output_type": "stream",
     "text": [
      "[12, 25, 15, 26, 78, 96]\n"
     ]
    }
   ],
   "source": [
    "c =[12,25,15,26,78,96,45,22,56,89]\n",
    "print(c[0:6])"
   ]
  },
  {
   "cell_type": "code",
   "execution_count": 13,
   "id": "a9c93516-d989-4de6-bfec-a82890daab67",
   "metadata": {},
   "outputs": [
    {
     "name": "stdout",
     "output_type": "stream",
     "text": [
      "[26, 78, 96, 45, 22, 56]\n"
     ]
    }
   ],
   "source": [
    "d =[12,25,15,26,78,96,45,22,56,89]\n",
    "print(d[3:9])"
   ]
  },
  {
   "cell_type": "code",
   "execution_count": 14,
   "id": "5dbc71d3-d16b-4d83-aae3-b63c7f4f55fb",
   "metadata": {},
   "outputs": [
    {
     "name": "stdout",
     "output_type": "stream",
     "text": [
      "[12, 15, 78, 45, 56]\n"
     ]
    }
   ],
   "source": [
    "e =[12,25,15,26,78,96,45,22,56,89]\n",
    "print(e[0:10:2])"
   ]
  },
  {
   "cell_type": "markdown",
   "id": "13fac1d2-eb31-48e5-8284-7c9bb07f4cbc",
   "metadata": {},
   "source": [
    "# change list items"
   ]
  },
  {
   "cell_type": "code",
   "execution_count": 1,
   "id": "9bf7945a-5fae-4034-8f32-99fac2d9f989",
   "metadata": {},
   "outputs": [
    {
     "name": "stdout",
     "output_type": "stream",
     "text": [
      "['apple', 'strwaberry', 'cherry']\n"
     ]
    }
   ],
   "source": [
    "thislist =[\"apple\",\"banana\",\"cherry\"]\n",
    "thislist[1] = \"strwaberry\"\n",
    "print(thislist)"
   ]
  },
  {
   "cell_type": "code",
   "execution_count": 2,
   "id": "28aab228-5b9c-49ff-b984-22e1d308db9c",
   "metadata": {},
   "outputs": [
    {
     "name": "stdout",
     "output_type": "stream",
     "text": [
      "[12, 14, 'students', 16, 8, 9, -5, -3, 41, -9]\n"
     ]
    }
   ],
   "source": [
    "f = [12,14,15,16,8,9,-5,-3,41,-9]\n",
    "f[2] = \"students\"\n",
    "print(f)"
   ]
  },
  {
   "cell_type": "markdown",
   "id": "fcc0667d-d105-4288-834b-15177d3dc465",
   "metadata": {},
   "source": [
    "# change a range of item values"
   ]
  },
  {
   "cell_type": "code",
   "execution_count": 3,
   "id": "8af5d653-69ca-42b5-a898-9d5465036138",
   "metadata": {},
   "outputs": [
    {
     "name": "stdout",
     "output_type": "stream",
     "text": [
      "[12, 14, 'books', 'pen', 'copy', 8, 9, -5, -3, 41, -9]\n"
     ]
    }
   ],
   "source": [
    "g = [12,14,15,16,8,9,-5,-3,41,-9]\n",
    "g[2:4] = [\"books\",\"pen\",\"copy\"]\n",
    "print(g)"
   ]
  },
  {
   "cell_type": "markdown",
   "id": "d1604262-ee58-4270-8d73-9f2a74ef7cb8",
   "metadata": {},
   "source": [
    "# add list items"
   ]
  },
  {
   "cell_type": "code",
   "execution_count": 4,
   "id": "82ed50bc-7662-4083-817e-534e501b58ac",
   "metadata": {},
   "outputs": [
    {
     "name": "stdout",
     "output_type": "stream",
     "text": [
      "[12, 12, 15, 78, 96, 25, -9]\n"
     ]
    }
   ],
   "source": [
    "h =[12,12,15,78,96,25]\n",
    "h.append(-9)\n",
    "print(h)"
   ]
  },
  {
   "cell_type": "markdown",
   "id": "2c478231-bf75-41cb-9ff9-73cd2d0c108d",
   "metadata": {},
   "source": [
    "# remove item"
   ]
  },
  {
   "cell_type": "code",
   "execution_count": 6,
   "id": "b37db1f9-deda-40d4-8372-082ee5ccc623",
   "metadata": {},
   "outputs": [
    {
     "name": "stdout",
     "output_type": "stream",
     "text": [
      "['apple', 'cherry', 'hello']\n"
     ]
    }
   ],
   "source": [
    "m =[\"apple\",\"cherry\",\"student\",\"hello\"]\n",
    "m.remove(\"student\")\n",
    "print(m)"
   ]
  },
  {
   "cell_type": "markdown",
   "id": "65a21f19-b4d9-4667-b4b7-a3c0c5d1492c",
   "metadata": {},
   "source": [
    "# Reversing a list"
   ]
  },
  {
   "cell_type": "code",
   "execution_count": 7,
   "id": "cc79e91b-fec3-4206-82cf-eb0dcc853c11",
   "metadata": {},
   "outputs": [
    {
     "name": "stdout",
     "output_type": "stream",
     "text": [
      "['science', 'python', 5, 4, 3, 2, 1]\n"
     ]
    }
   ],
   "source": [
    "mylist =[1,2,3,4,5,\"python\",\"science\"]\n",
    "mylist.reverse()\n",
    "print(mylist)"
   ]
  },
  {
   "cell_type": "markdown",
   "id": "9c47ee6a-50b2-446f-8c55-a55e01ad9321",
   "metadata": {},
   "source": [
    "# sum of all numbers in list"
   ]
  },
  {
   "cell_type": "code",
   "execution_count": 9,
   "id": "44fa386c-2d3d-42db-a183-26f27d2ed13a",
   "metadata": {},
   "outputs": [
    {
     "name": "stdout",
     "output_type": "stream",
     "text": [
      "13\n",
      "the sum of a list is  383\n"
     ]
    }
   ],
   "source": [
    "l =[14,15,12,78,-9,23,-8,52,74,89,25,10,8]\n",
    "print(len(l))\n",
    "a = 0\n",
    "for i in range(13):\n",
    "    a = a +l[i]\n",
    "    i = i +1\n",
    "print(\"the sum of a list is \",a)\n"
   ]
  },
  {
   "cell_type": "code",
   "execution_count": 11,
   "id": "d6945f72-dfed-40e6-a060-b67118797449",
   "metadata": {},
   "outputs": [
    {
     "name": "stdout",
     "output_type": "stream",
     "text": [
      "3628800\n"
     ]
    }
   ],
   "source": [
    "list =[1,2,3,4,5,6,7,8,9,10]\n",
    "n =1\n",
    "for i in range(10):\n",
    "    n = n*list[i]\n",
    "    i = i+1\n",
    "print(n)"
   ]
  },
  {
   "cell_type": "code",
   "execution_count": 17,
   "id": "35efed53-51f2-423f-a20c-1581861d9a19",
   "metadata": {},
   "outputs": [
    {
     "name": "stdout",
     "output_type": "stream",
     "text": [
      "[45, 26, 24, 35, 15, 89, 357, 45, 1, 5]\n",
      "10\n",
      "now the new list [1, 26, 24, 35, 15, 89, 357, 45, 1, 45]\n"
     ]
    }
   ],
   "source": [
    "sim = [45,26,24,35,15,89,357,45,1,5]\n",
    "print(sim)\n",
    "print(len(sim))\n",
    "b = sim[0]\n",
    "sim[0] =sim[8]\n",
    "sim[9] =b\n",
    "print(\"now the new list\",sim)\n"
   ]
  },
  {
   "cell_type": "code",
   "execution_count": null,
   "id": "e791d96e-6fa7-4fe4-bd24-943d6b52a46f",
   "metadata": {},
   "outputs": [],
   "source": []
  },
  {
   "cell_type": "code",
   "execution_count": null,
   "id": "696ef892-57cb-4b88-84d9-a5b1d6ba52cb",
   "metadata": {},
   "outputs": [],
   "source": []
  },
  {
   "cell_type": "code",
   "execution_count": null,
   "id": "afd6aa73-cd99-4fc1-a2e6-ad8eaf1af5f6",
   "metadata": {},
   "outputs": [],
   "source": []
  }
 ],
 "metadata": {
  "kernelspec": {
   "display_name": "Python 3 (ipykernel)",
   "language": "python",
   "name": "python3"
  },
  "language_info": {
   "codemirror_mode": {
    "name": "ipython",
    "version": 3
   },
   "file_extension": ".py",
   "mimetype": "text/x-python",
   "name": "python",
   "nbconvert_exporter": "python",
   "pygments_lexer": "ipython3",
   "version": "3.12.4"
  }
 },
 "nbformat": 4,
 "nbformat_minor": 5
}
