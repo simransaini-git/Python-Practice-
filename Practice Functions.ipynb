{
 "cells": [
  {
   "cell_type": "markdown",
   "id": "51c9b8a3-d2a3-4532-8321-38615613fedb",
   "metadata": {},
   "source": [
    "# Question 1: Write a function to find the sum of all numbers in a list.\n"
   ]
  },
  {
   "cell_type": "code",
   "execution_count": 2,
   "id": "6b01bde9-7855-4eea-9c7c-377bac300948",
   "metadata": {},
   "outputs": [
    {
     "name": "stdout",
     "output_type": "stream",
     "text": [
      "The sum of the list is: 17\n"
     ]
    }
   ],
   "source": [
    "def sum_of_list(numbers):\n",
    "    \"\"\"Returns the sum of all numbers in the list.\"\"\"\n",
    "    return sum(numbers)\n",
    "\n",
    "numbers = [1, 2, 3, 5, 6]\n",
    "result = sum_of_list(numbers)\n",
    "print(f\"The sum of the list is: {result}\")"
   ]
  },
  {
   "cell_type": "markdown",
   "id": "3726f81c-ad61-4b0d-b9b8-591786ddd212",
   "metadata": {},
   "source": [
    "# Question 2: Write a function to reverse a string.\n"
   ]
  },
  {
   "cell_type": "code",
   "execution_count": 4,
   "id": "83924050-bc41-4dc2-8cfb-518e15ecb6e1",
   "metadata": {},
   "outputs": [
    {
     "name": "stdout",
     "output_type": "stream",
     "text": [
      "The reversed string is: iniaS_narmiS\n"
     ]
    }
   ],
   "source": [
    "def reverse_string(s):\n",
    "    \"\"\"Returns the reversed string.\"\"\"\n",
    "    return s[::-1]\n",
    "\n",
    "text = \"Simran_Saini\"\n",
    "reversed_text = reverse_string(text)\n",
    "print(f\"The reversed string is: {reversed_text}\")"
   ]
  },
  {
   "cell_type": "markdown",
   "id": "b540fa8f-00f9-4219-903a-75abd2f109c4",
   "metadata": {},
   "source": [
    "# Question 3: Write a function to check if a string is a palindrome.\n"
   ]
  },
  {
   "cell_type": "code",
   "execution_count": 5,
   "id": "aca6bd73-9afb-481f-8b99-ec203400a436",
   "metadata": {},
   "outputs": [
    {
     "name": "stdout",
     "output_type": "stream",
     "text": [
      "\"oppo\" is a palindrome.\n"
     ]
    }
   ],
   "source": [
    "def is_palindrome(s):\n",
    "    \"\"\"Checks if a string is a palindrome.\"\"\"\n",
    "    # Remove spaces and convert to lowercase \n",
    "    s = ''.join(s.split()).lower()\n",
    "    \n",
    "    # Check if the string is equal to its reverse\n",
    "    return s == s[::-1]\n",
    "\n",
    "text = \"oppo\"\n",
    "if is_palindrome(text):\n",
    "    print(f'\"{text}\" is a palindrome.')\n",
    "else:\n",
    "    print(f'\"{text}\" is not a palindrome.')\n"
   ]
  },
  {
   "cell_type": "markdown",
   "id": "c9e611a0-f980-4701-b0d9-5b84822e68d4",
   "metadata": {},
   "source": [
    "# Question 4: Write a lambda function to check if a number is a multiple of both 3 and 5.\n",
    "\n"
   ]
  },
  {
   "cell_type": "code",
   "execution_count": 10,
   "id": "b47b5a7d-f0d5-4e2e-bcef-f7d98cd3233a",
   "metadata": {},
   "outputs": [
    {
     "name": "stdout",
     "output_type": "stream",
     "text": [
      "30 is a multiple of both 3 and 5.\n"
     ]
    }
   ],
   "source": [
    "is_multiple_of_3_and_5 = lambda x: x % 3 == 0 and x % 5 == 0\n",
    "\n",
    "number = 30\n",
    "if is_multiple_of_3_and_5(number):\n",
    "    print(f\"{number} is a multiple of both 3 and 5.\")\n",
    "else:\n",
    "    print(f\"{number} is not a multiple of both 3 and 5.\")"
   ]
  },
  {
   "cell_type": "markdown",
   "id": "1e841a78-fb95-4174-be88-82217183f866",
   "metadata": {},
   "source": [
    "# Question 5: Write a lambda function to reverse a string.\n",
    "\n"
   ]
  },
  {
   "cell_type": "code",
   "execution_count": 11,
   "id": "c14fcf36-c6fa-4ec8-99b5-2d7e8aa07127",
   "metadata": {},
   "outputs": [
    {
     "name": "stdout",
     "output_type": "stream",
     "text": [
      "The reversed string is: dlroW olleH\n"
     ]
    }
   ],
   "source": [
    "reverse_string = lambda s: s[::-1]\n",
    "\n",
    "text = \"Hello World\"\n",
    "reversed_text = reverse_string(text)\n",
    "print(f\"The reversed string is: {reversed_text}\")"
   ]
  },
  {
   "cell_type": "markdown",
   "id": "3bb85e3f-59aa-4a89-bbf8-ef3aac4d4aa8",
   "metadata": {},
   "source": [
    "# Question 6 : Write a lambda function to multiply two numbers."
   ]
  },
  {
   "cell_type": "code",
   "execution_count": 14,
   "id": "b32c004f-9406-45a8-82fe-6778f7c76749",
   "metadata": {},
   "outputs": [
    {
     "name": "stdout",
     "output_type": "stream",
     "text": [
      "The product of 6 and 15 is: 90\n"
     ]
    }
   ],
   "source": [
    "multiply = lambda a, b: a * b\n",
    "\n",
    "num1 = 6\n",
    "num2 = 15\n",
    "result = multiply(num1, num2)\n",
    "print(f\"The product of {num1} and {num2} is: {result}\")"
   ]
  },
  {
   "cell_type": "code",
   "execution_count": null,
   "id": "6fd6e0c4-d6dc-4b56-b385-8169c793e135",
   "metadata": {},
   "outputs": [],
   "source": []
  }
 ],
 "metadata": {
  "kernelspec": {
   "display_name": "Python 3 (ipykernel)",
   "language": "python",
   "name": "python3"
  },
  "language_info": {
   "codemirror_mode": {
    "name": "ipython",
    "version": 3
   },
   "file_extension": ".py",
   "mimetype": "text/x-python",
   "name": "python",
   "nbconvert_exporter": "python",
   "pygments_lexer": "ipython3",
   "version": "3.12.4"
  }
 },
 "nbformat": 4,
 "nbformat_minor": 5
}
