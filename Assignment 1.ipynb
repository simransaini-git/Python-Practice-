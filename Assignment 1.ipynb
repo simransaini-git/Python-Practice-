{
 "cells": [
  {
   "cell_type": "markdown",
   "id": "8acb507c-c54a-43e1-a523-fd37a7ce5ecf",
   "metadata": {},
   "source": [
    "# Question1: Write a Python function to remove duplicates from a list while maintaining the original order.\n"
   ]
  },
  {
   "cell_type": "code",
   "execution_count": 2,
   "id": "5ea1263f-54d5-454c-863c-ef6862c36c37",
   "metadata": {},
   "outputs": [
    {
     "name": "stdout",
     "output_type": "stream",
     "text": [
      "The list without duplicates is: [1, 2, 3, 4, 5, 45, 85, 78, 35]\n"
     ]
    }
   ],
   "source": [
    "def remove_duplicates(lst):\n",
    "    \"\"\"Removes duplicates from a list while maintaining the original order.\"\"\"\n",
    "    seen = set()  # A set to keep track of seen elements\n",
    "    result = []   # A list to store the unique elements\n",
    "    for item in lst:\n",
    "        if item not in seen:\n",
    "            result.append(item)\n",
    "            seen.add(item)\n",
    "    return result\n",
    "\n",
    "numbers = [1, 2, 2, 3, 4, 4, 5, 1,45,85,2,78,35,3,45]\n",
    "unique_numbers = remove_duplicates(numbers)\n",
    "print(f\"The list without duplicates is: {unique_numbers}\")"
   ]
  },
  {
   "cell_type": "markdown",
   "id": "b3db6310-a298-4083-9ad4-3838d96118c6",
   "metadata": {},
   "source": [
    "# Question2: Write a Python function to count the frequency of characters in a string using a dictionary.\n"
   ]
  },
  {
   "cell_type": "code",
   "execution_count": 4,
   "id": "dd7ae30c-9f30-47a6-a490-c8c35e7f7f81",
   "metadata": {},
   "outputs": [
    {
     "name": "stdout",
     "output_type": "stream",
     "text": [
      "Character frequencies: {'P': 1, 'y': 1, 't': 1, 'h': 1, 'o': 1, 'n': 1}\n"
     ]
    }
   ],
   "source": [
    "def count_char_frequency(s):\n",
    "    \"\"\"Counts the frequency of each character in a string using a dictionary.\"\"\"\n",
    "    frequency = {}  # Dictionary to store character counts\n",
    "    for char in s:\n",
    "        if char in frequency:\n",
    "            frequency[char] += 1  \n",
    "        else:\n",
    "            frequency[char] = 1 \n",
    "    return frequency\n",
    "\n",
    "text = \"Python\"\n",
    "char_frequency = count_char_frequency(text)\n",
    "print(f\"Character frequencies: {char_frequency}\")"
   ]
  },
  {
   "cell_type": "markdown",
   "id": "40cef661-b3d5-4bdf-ac63-fb1293d7b607",
   "metadata": {},
   "source": [
    "# Question3: Write a Python function to sort a list of tuples based on the second element in each tuple.\n"
   ]
  },
  {
   "cell_type": "code",
   "execution_count": 6,
   "id": "6149173f-cb0d-4c22-9f08-a32c5518a224",
   "metadata": {},
   "outputs": [
    {
     "name": "stdout",
     "output_type": "stream",
     "text": [
      "Sorted list: [(21, 5), (11, 13), (12, 14), (45, 65)]\n"
     ]
    }
   ],
   "source": [
    "def sort_by_second_element(lst):\n",
    "    \"\"\"Sorts a list of tuples based on the second element in each tuple.\"\"\"\n",
    "    return sorted(lst, key=lambda x: x[1])\n",
    "\n",
    "tuples_list = [(12,14), (45,65), (11, 13), (21, 5)]\n",
    "sorted_list = sort_by_second_element(tuples_list)\n",
    "print(f\"Sorted list: {sorted_list}\")"
   ]
  },
  {
   "cell_type": "markdown",
   "id": "da72451b-0457-4a73-b259-4e5093fa4556",
   "metadata": {},
   "source": [
    "# Question4: Write a Python program to merge two dictionaries.\n"
   ]
  },
  {
   "cell_type": "code",
   "execution_count": 8,
   "id": "b7fe0796-0aa4-4eb7-9bb0-5fa5d856225a",
   "metadata": {},
   "outputs": [
    {
     "name": "stdout",
     "output_type": "stream",
     "text": [
      "{1: 's', 2: 'm', 4: 'r'}\n"
     ]
    }
   ],
   "source": [
    "dict_1 = {1: 's', 2: 'i'}\n",
    "dict_2 = {2: 'm', 4: 'r'}\n",
    "\n",
    "print({**dict_1, **dict_2})"
   ]
  },
  {
   "cell_type": "markdown",
   "id": "8307b267-9025-4ead-907a-0efcc9e748dd",
   "metadata": {},
   "source": [
    "# Question5: Write a Python function to find the second largest number in a list.\n"
   ]
  },
  {
   "cell_type": "code",
   "execution_count": 4,
   "id": "78d49ee7-56f7-4cb3-93b6-df3fde61683c",
   "metadata": {},
   "outputs": [
    {
     "name": "stdout",
     "output_type": "stream",
     "text": [
      "Original list: [10, 20, 20, 40, 30]\n",
      "Second largest number: 30\n"
     ]
    }
   ],
   "source": [
    "def find_second_largest(numbers):\n",
    "    if len(numbers) < 2:\n",
    "        return None\n",
    "    unique_numbers = list(set(numbers))\n",
    "    unique_numbers.sort(reverse=True)\n",
    "\n",
    "    \n",
    "    if len(unique_numbers) < 2:\n",
    "        return None  # No second largest if all elements are the same\n",
    "    \n",
    "    return unique_numbers[1]\n",
    "\n",
    "example_list = [10, 20, 20, 40, 30]\n",
    "second_largest = find_second_largest(example_list)\n",
    "print(\"Original list:\", example_list)\n",
    "print(\"Second largest number:\", second_largest)\n",
    "    "
   ]
  },
  {
   "cell_type": "markdown",
   "id": "6a476ed9-c3ea-4908-8bfc-0109c812e714",
   "metadata": {},
   "source": [
    "# Question6: Write a Python function to find the smallest number in a list.\n"
   ]
  },
  {
   "cell_type": "code",
   "execution_count": 8,
   "id": "636ed5b8-acd1-4d10-8a91-026630f6929c",
   "metadata": {},
   "outputs": [
    {
     "name": "stdout",
     "output_type": "stream",
     "text": [
      "Original list: [50, 56, -83, 0, 10]\n",
      "Smallest number: -83\n"
     ]
    }
   ],
   "source": [
    "def find_smallest_number(numbers):\n",
    "    if not numbers:  # Check if the list is empty\n",
    "        return None\n",
    "    return min(numbers)\n",
    "\n",
    "example_list = [50,56,-83,-0,10]\n",
    "smallest_number = find_smallest_number(example_list)\n",
    "print(\"Original list:\", example_list)\n",
    "print(\"Smallest number:\", smallest_number)\n",
    "    "
   ]
  },
  {
   "cell_type": "markdown",
   "id": "53cb9024-c8b2-48ad-b855-f5d581953673",
   "metadata": {},
   "source": [
    "# Question 7 : Write a Python program to reverse a given list.\n"
   ]
  },
  {
   "cell_type": "code",
   "execution_count": 9,
   "id": "c90d2569-b0a8-44ae-961e-269f35906ff1",
   "metadata": {},
   "outputs": [
    {
     "name": "stdout",
     "output_type": "stream",
     "text": [
      "Original list: [50, 56, 78, 20, 10]\n",
      "Reversed list: [10, 20, 78, 56, 50]\n"
     ]
    }
   ],
   "source": [
    "def reverse_list(input_list):\n",
    "     return input_list[::-1]\n",
    "\n",
    "example_list = [50,56,78,20,10]\n",
    "reversed_list = reverse_list(example_list)\n",
    "print(\"Original list:\", example_list)\n",
    "print(\"Reversed list:\", reversed_list)"
   ]
  },
  {
   "cell_type": "markdown",
   "id": "3b4d593f-1a90-4295-a5a8-6e9316667bc0",
   "metadata": {},
   "source": [
    "# Question 9:  Write a Python program to count the number of vowels in a given string"
   ]
  },
  {
   "cell_type": "code",
   "execution_count": 17,
   "id": "c718778f-25f0-404f-a342-0e68624deb32",
   "metadata": {},
   "outputs": [
    {
     "name": "stdout",
     "output_type": "stream",
     "text": [
      "Input string: Function Assignment\n",
      "Number of vowels: 6\n"
     ]
    }
   ],
   "source": [
    "def count_vowels(input_string):\n",
    "    \n",
    "    vowels = \"AEIOUaeiou\"\n",
    "    count = 0\n",
    "    \n",
    "    for char in input_string:\n",
    "        if char in vowels:\n",
    "            count += 1\n",
    "    return count\n",
    "\n",
    "example_string = \"Function Assignment\"\n",
    "vowel_count = count_vowels(example_string)\n",
    "print(\"Input string:\", example_string)\n",
    "print(\"Number of vowels:\", vowel_count)"
   ]
  },
  {
   "cell_type": "markdown",
   "id": "6c42b1b0-8fc4-4412-a46c-ac689eceb344",
   "metadata": {},
   "source": [
    "# Question 10: Write a Python program to find the maximum of three numbers.\n"
   ]
  },
  {
   "cell_type": "code",
   "execution_count": 18,
   "id": "dc4c3d7e-bb7c-42f8-aa29-b2355505fba5",
   "metadata": {},
   "outputs": [
    {
     "name": "stdout",
     "output_type": "stream",
     "text": [
      "The maximum of 84, 27, and 32 is: 84\n"
     ]
    }
   ],
   "source": [
    "def find_max_of_three(a, b, c):\n",
    "    return max(a, b, c)\n",
    "\n",
    "num1 = 84\n",
    "num2 = 27\n",
    "num3 = 32\n",
    "max_number = find_max_of_three(num1, num2, num3)\n",
    "print(f\"The maximum of {num1}, {num2}, and {num3} is: {max_number}\")"
   ]
  },
  {
   "cell_type": "markdown",
   "id": "24777ac5-c80c-46f3-a681-b2a66d8dec30",
   "metadata": {},
   "source": [
    "# Quesion 11 :Write a Python program to create a class representing a shopping cart. Include methods for adding and removing items, and calculating the total price."
   ]
  },
  {
   "cell_type": "code",
   "execution_count": 28,
   "id": "6ef67954-b160-4360-a54c-0279d82f084e",
   "metadata": {},
   "outputs": [
    {
     "name": "stdout",
     "output_type": "stream",
     "text": [
      "Body Wash: 3 x 455 = 1365\n",
      "Toothpaste: 5 x 73 = 365\n",
      "Toilet Paper: 5 x 189 = 945\n",
      "\n",
      "Removing 1 Toothpaste...\n",
      "\n",
      "Body Wash: 3 x 455 = 1365\n",
      "Toothpaste: 3 x 73 = 219\n",
      "Toilet Paper: 5 x 189 = 945\n",
      "Total price: 2529.00\n"
     ]
    }
   ],
   "source": [
    "class ShoppingCart:\n",
    "    def __init__(self):\n",
    "        self.cart ={}\n",
    "\n",
    "    def add_item(self,item_name,price,quantity = 1):\n",
    "\n",
    "        if item_name in self.cart:\n",
    "            self.cart[item_name]['quantity'] += quantity\n",
    "        else:\n",
    "            self.cart[item_name] ={'price' : price , 'quantity': quantity}\n",
    "\n",
    "    def remove_item(self, item_name, quantity= 1):\n",
    "\n",
    "        if item_name in self.cart:\n",
    "            if self.cart[item_name]['quantity'] > quantity:\n",
    "                self.cart[item_name]['quantity'] -= quantity\n",
    "            else:\n",
    "                del self.cart[item_name]\n",
    "        else:\n",
    "            print(f\"Item '{item_name}' not found in the cart.\")\n",
    "\n",
    "    def total_price(self):\n",
    "\n",
    "         total = 0\n",
    "         for item in self.cart.values():\n",
    "             total += item['price'] * item['quantity']\n",
    "         return total \n",
    "\n",
    "    def display_cart(self):\n",
    "\n",
    "         if not self.cart:\n",
    "            print(\"Your cart is empty.\")\n",
    "         else:\n",
    "            for item_name, details in self.cart.items():\n",
    "                print(f\"{item_name}: {details['quantity']} x {details['price']} = {details['price'] * details['quantity']}\")\n",
    "\n",
    "\n",
    "\n",
    "\n",
    "cart = ShoppingCart()\n",
    "cart.add_item(\"Body Wash\",455, 3)\n",
    "cart.add_item(\"Toothpaste\",73, 5)\n",
    "cart.add_item(\"Toilet Paper\",189, 5)\n",
    "\n",
    "cart.display_cart()\n",
    "\n",
    "print(\"\\nRemoving 1 Toothpaste...\\n\") \n",
    "cart.remove_item(\"Toothpaste\", 2)\n",
    "cart.display_cart()\n",
    "\n",
    "print(f\"Total price: {cart.total_price():.2f}\")\n",
    "\n",
    "\n",
    "         "
   ]
  },
  {
   "cell_type": "markdown",
   "id": "8a645e56-ce34-466b-8518-50c7aa019c11",
   "metadata": {},
   "source": [
    "# Question 12: Write a Python class Circle that has two methods: area and circumference.\n",
    "\n",
    "\n"
   ]
  },
  {
   "cell_type": "code",
   "execution_count": 32,
   "id": "071221fd-00c9-49a9-b9d0-660471585d36",
   "metadata": {},
   "outputs": [
    {
     "name": "stdout",
     "output_type": "stream",
     "text": [
      "Area of the circle: 314.16\n",
      "Circumference of the circle: 62.83\n"
     ]
    }
   ],
   "source": [
    "import math\n",
    "\n",
    "class Circle:\n",
    "    def __init__(self, radius):\n",
    "        \n",
    "        self.radius = radius\n",
    "\n",
    "    def area(self):\n",
    "        \n",
    "        return math.pi * self.radius ** 2\n",
    "\n",
    "    def circumference(self):\n",
    "        \n",
    "        return 2 * math.pi * self.radius\n",
    "\n",
    "\n",
    "circle = Circle(10)  # Creating a circle with radius 10\n",
    "\n",
    "# Calculate area and circumference\n",
    "print(f\"Area of the circle: {circle.area():.2f}\")\n",
    "print(f\"Circumference of the circle: {circle.circumference():.2f}\")"
   ]
  },
  {
   "cell_type": "markdown",
   "id": "9b42a8f4-08fc-4ef4-ad64-8b7d530ca855",
   "metadata": {},
   "source": [
    " # Question 13: Write a Python program to display the Fibonacci sequence up to n terms."
   ]
  },
  {
   "cell_type": "code",
   "execution_count": 33,
   "id": "657e287d-298b-4e24-9074-5e2f73013ffd",
   "metadata": {},
   "outputs": [
    {
     "name": "stdin",
     "output_type": "stream",
     "text": [
      "Enter the number of terms for the Fibonacci sequence:  15\n"
     ]
    },
    {
     "name": "stdout",
     "output_type": "stream",
     "text": [
      "0 1 1 2 3 5 8 13 21 34 55 89 144 233 377 \n"
     ]
    }
   ],
   "source": [
    "n = int(input(\"Enter the number of terms for the Fibonacci sequence: \"))\n",
    "\n",
    "a, b = 0, 1\n",
    "\n",
    "# Print the Fibonacci sequence up to n terms\n",
    "if n <= 0:\n",
    "    print(\"Please enter a positive integer.\")\n",
    "elif n == 1:\n",
    "    print(a)\n",
    "else:\n",
    "    print(a, end=\" \")  # Print the first term\n",
    "    for _ in range(1, n):\n",
    "        print(b, end=\" \")  # Print the next term\n",
    "        a, b = b, a + b  # Update the values of a and b\n",
    "    print() "
   ]
  },
  {
   "cell_type": "markdown",
   "id": "ba2538be-5884-4d49-89ef-cafc38fcd687",
   "metadata": {},
   "source": [
    "# Question 14 : Create a Python function that checks if a given number is prime.\n"
   ]
  },
  {
   "cell_type": "code",
   "execution_count": 36,
   "id": "adc51df9-ce40-45af-a32d-bb9808b7f433",
   "metadata": {},
   "outputs": [
    {
     "name": "stdin",
     "output_type": "stream",
     "text": [
      "Enter a number to check if it is prime:  7\n"
     ]
    },
    {
     "name": "stdout",
     "output_type": "stream",
     "text": [
      "7 is a prime number.\n"
     ]
    }
   ],
   "source": [
    "def is_prime(number):\n",
    "    \n",
    "    if number <= 1:\n",
    "        return False  # 1 or less are not prime\n",
    "    for i in range(2, int(number ** 0.5) + 1):\n",
    "        if number % i == 0:\n",
    "            return False  \n",
    "    return True  \n",
    "\n",
    "\n",
    "num = int(input(\"Enter a number to check if it is prime: \"))\n",
    "if is_prime(num):\n",
    "    print(f\"{num} is a prime number.\")\n",
    "else:\n",
    "    print(f\"{num} is not a prime number.\")"
   ]
  },
  {
   "cell_type": "markdown",
   "id": "6331277a-d581-4005-af4d-f2d59c156611",
   "metadata": {},
   "source": [
    "# Question 15 : Write a Python program to find the factorial of a number.\n"
   ]
  },
  {
   "cell_type": "code",
   "execution_count": 37,
   "id": "a1c6134f-b89f-428b-941d-aea673a5ec42",
   "metadata": {},
   "outputs": [
    {
     "name": "stdin",
     "output_type": "stream",
     "text": [
      "Enter a number to find its factorial:  6\n"
     ]
    },
    {
     "name": "stdout",
     "output_type": "stream",
     "text": [
      "The factorial of 6 is: 720\n"
     ]
    }
   ],
   "source": [
    "num = int(input(\"Enter a number to find its factorial: \"))\n",
    "\n",
    "factorial = 1\n",
    "\n",
    "# Calculate the factorial using a loop\n",
    "if num < 0:\n",
    "    print(\"Factorial is not defined for negative numbers.\")\n",
    "elif num == 0 or num == 1:\n",
    "    print(f\"The factorial of {num} is: 1\")\n",
    "else:\n",
    "    for i in range(1, num + 1):\n",
    "        factorial *= i  \n",
    "    print(f\"The factorial of {num} is: {factorial}\")"
   ]
  },
  {
   "cell_type": "code",
   "execution_count": null,
   "id": "b2e872d1-8d42-463d-bd30-6d69da3699e2",
   "metadata": {},
   "outputs": [],
   "source": []
  }
 ],
 "metadata": {
  "kernelspec": {
   "display_name": "Python 3 (ipykernel)",
   "language": "python",
   "name": "python3"
  },
  "language_info": {
   "codemirror_mode": {
    "name": "ipython",
    "version": 3
   },
   "file_extension": ".py",
   "mimetype": "text/x-python",
   "name": "python",
   "nbconvert_exporter": "python",
   "pygments_lexer": "ipython3",
   "version": "3.12.4"
  }
 },
 "nbformat": 4,
 "nbformat_minor": 5
}
