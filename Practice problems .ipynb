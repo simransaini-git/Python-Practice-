{
 "cells": [
  {
   "cell_type": "markdown",
   "id": "980a514e-1450-47ff-b6cb-61828f4b3a67",
   "metadata": {},
   "source": [
    "# Question 1:   \n",
    "  # Counting Odd Numbers Write a program that continuously takes input from the user until they enter a negative number.The program should then print the count of all the odd numbers entered.\n"
   ]
  },
  {
   "cell_type": "code",
   "execution_count": 4,
   "id": "ad6e03ac-75fb-4f7a-8c7e-00de5d85b334",
   "metadata": {},
   "outputs": [],
   "source": [
    "def count_odd_numbers():\n",
    "    odd_count = 0  # Initialize odd count\n",
    "    number = 0  # Start with a non-negative value to enter the loop\n",
    "\n",
    "    while number >= 0:\n",
    "        number = int(input(\"Enter a number (negative number to stop): \"))\n",
    "        if number >= 0 and number % 2 != 0:\n",
    "            odd_count += 1\n",
    "\n",
    "    print(f\"Total odd numbers entered: {odd_count}\")\n"
   ]
  },
  {
   "cell_type": "code",
   "execution_count": 5,
   "id": "0712742c-3d5f-40a1-abc0-b0e2f69068c4",
   "metadata": {},
   "outputs": [
    {
     "name": "stdin",
     "output_type": "stream",
     "text": [
      "Enter a number (negative number to stop):  54\n",
      "Enter a number (negative number to stop):  85\n",
      "Enter a number (negative number to stop):  65\n",
      "Enter a number (negative number to stop):  9\n",
      "Enter a number (negative number to stop):  7\n",
      "Enter a number (negative number to stop):  -8\n"
     ]
    },
    {
     "name": "stdout",
     "output_type": "stream",
     "text": [
      "Total odd numbers entered: 4\n"
     ]
    }
   ],
   "source": [
    "count_odd_numbers()"
   ]
  },
  {
   "cell_type": "markdown",
   "id": "5d0d157a-34c2-4836-b39a-bcd7e991d1bb",
   "metadata": {},
   "source": [
    "# Question 2:\n",
    "# Guessing Game \n",
    "# Create a guessing game where the computer generates a random number between 1 and 100, and the player has to guess it. The game should provide feedback on whether the guess is too high or too low, and it should continue until the player guesses the correct number.\n"
   ]
  },
  {
   "cell_type": "code",
   "execution_count": 6,
   "id": "11439051-337f-4692-9e67-9a8b262ba82a",
   "metadata": {},
   "outputs": [],
   "source": [
    "import random\n",
    "\n",
    "def guessing_game():\n",
    "    # Generate a random number between 1 and 100\n",
    "    target_number = random.randint(1, 100)\n",
    "    print(\"Welcome to the Guessing Game!\")\n",
    "    print(\"I have selected a number between 1 and 100. Try to guess it!\")\n",
    "    \n",
    "    while True:\n",
    "        try:\n",
    "            # Get the player's guess\n",
    "            guess = int(input(\"Enter your guess: \"))\n",
    "            \n",
    "            if guess < target_number:\n",
    "                print(\"Too low! Try again.\")\n",
    "            elif guess > target_number:\n",
    "                print(\"Too high! Try again.\")\n",
    "            else:\n",
    "                print(f\"Congratulations! You guessed the correct number: {target_number}\")\n",
    "                break\n",
    "        except ValueError:\n",
    "            print(\"Invalid input! Please enter a valid integer.\")\n",
    "\n"
   ]
  },
  {
   "cell_type": "code",
   "execution_count": 8,
   "id": "16344f60-abfc-49dd-83e8-a2ced9b84003",
   "metadata": {},
   "outputs": [
    {
     "name": "stdout",
     "output_type": "stream",
     "text": [
      "Welcome to the Guessing Game!\n",
      "I have selected a number between 1 and 100. Try to guess it!\n"
     ]
    },
    {
     "name": "stdin",
     "output_type": "stream",
     "text": [
      "Enter your guess:  56\n"
     ]
    },
    {
     "name": "stdout",
     "output_type": "stream",
     "text": [
      "Too high! Try again.\n"
     ]
    },
    {
     "name": "stdin",
     "output_type": "stream",
     "text": [
      "Enter your guess:  52\n"
     ]
    },
    {
     "name": "stdout",
     "output_type": "stream",
     "text": [
      "Too high! Try again.\n"
     ]
    },
    {
     "name": "stdin",
     "output_type": "stream",
     "text": [
      "Enter your guess:  50\n"
     ]
    },
    {
     "name": "stdout",
     "output_type": "stream",
     "text": [
      "Too high! Try again.\n"
     ]
    },
    {
     "name": "stdin",
     "output_type": "stream",
     "text": [
      "Enter your guess:  45\n"
     ]
    },
    {
     "name": "stdout",
     "output_type": "stream",
     "text": [
      "Too high! Try again.\n"
     ]
    },
    {
     "name": "stdin",
     "output_type": "stream",
     "text": [
      "Enter your guess:  46\n"
     ]
    },
    {
     "name": "stdout",
     "output_type": "stream",
     "text": [
      "Too high! Try again.\n"
     ]
    },
    {
     "name": "stdin",
     "output_type": "stream",
     "text": [
      "Enter your guess:  40\n"
     ]
    },
    {
     "name": "stdout",
     "output_type": "stream",
     "text": [
      "Too high! Try again.\n"
     ]
    },
    {
     "name": "stdin",
     "output_type": "stream",
     "text": [
      "Enter your guess:  10\n"
     ]
    },
    {
     "name": "stdout",
     "output_type": "stream",
     "text": [
      "Too low! Try again.\n"
     ]
    },
    {
     "name": "stdin",
     "output_type": "stream",
     "text": [
      "Enter your guess:  15\n"
     ]
    },
    {
     "name": "stdout",
     "output_type": "stream",
     "text": [
      "Too low! Try again.\n"
     ]
    },
    {
     "name": "stdin",
     "output_type": "stream",
     "text": [
      "Enter your guess:  20\n"
     ]
    },
    {
     "name": "stdout",
     "output_type": "stream",
     "text": [
      "Too high! Try again.\n"
     ]
    },
    {
     "name": "stdin",
     "output_type": "stream",
     "text": [
      "Enter your guess:  16\n"
     ]
    },
    {
     "name": "stdout",
     "output_type": "stream",
     "text": [
      "Congratulations! You guessed the correct number: 16\n"
     ]
    }
   ],
   "source": [
    "guessing_game()"
   ]
  },
  {
   "cell_type": "markdown",
   "id": "86503503-146f-4073-83cb-cfca7f02bc57",
   "metadata": {},
   "source": [
    "# Question 3: \n",
    "# Password Validation Write a program that repeatedly asks the user for a password.The program should keep asking until the user enters a password that meets the following criteria: \n",
    "# Contains at least 8 characters Contains at least one uppercase letter Contains at least one lowercase letter Contains at least one digit"
   ]
  },
  {
   "cell_type": "code",
   "execution_count": 9,
   "id": "6d6f5e71-ce43-41fa-84f8-688cb1898367",
   "metadata": {},
   "outputs": [],
   "source": [
    "def is_valid_password(password):\n",
    "    # Check length\n",
    "    if len(password) < 8:\n",
    "        return False\n",
    "        \n",
    "    # Check if at least one uppercase letter\n",
    "    if not any(char.isupper() for char in password):\n",
    "        return False\n",
    "        \n",
    "    # Check if at least one lowercase letter\n",
    "    if not any(char.islower() for char in password):\n",
    "        return False\n",
    "        \n",
    "    # Check if at least one digit\n",
    "    if not any(char.isdigit() for char in password):\n",
    "        return False\n",
    "    return True\n",
    "\n",
    "def password_validation():\n",
    "    print(\"Password must meet the following criteria:\")\n",
    "    print(\"- At least 8 characters\")\n",
    "    print(\"- At least one uppercase letter\")\n",
    "    print(\"- At least one lowercase letter\")\n",
    "    print(\"- At least one digit\")\n",
    "\n",
    "    while True:\n",
    "        password = input(\"Enter a password: \")\n",
    "        if is_valid_password(password):\n",
    "            print(\"Password is valid!\")\n",
    "            break\n",
    "        else:\n",
    "            print(\"Invalid password. Please try again.\")\n"
   ]
  },
  {
   "cell_type": "code",
   "execution_count": 10,
   "id": "3fe08c24-098d-4276-9031-bd29df04041c",
   "metadata": {},
   "outputs": [
    {
     "name": "stdout",
     "output_type": "stream",
     "text": [
      "Password must meet the following criteria:\n",
      "- At least 8 characters\n",
      "- At least one uppercase letter\n",
      "- At least one lowercase letter\n",
      "- At least one digit\n"
     ]
    },
    {
     "name": "stdin",
     "output_type": "stream",
     "text": [
      "Enter a password:  simransaini2050\n"
     ]
    },
    {
     "name": "stdout",
     "output_type": "stream",
     "text": [
      "Invalid password. Please try again.\n"
     ]
    },
    {
     "name": "stdin",
     "output_type": "stream",
     "text": [
      "Enter a password:  Simransaini2050\n"
     ]
    },
    {
     "name": "stdout",
     "output_type": "stream",
     "text": [
      "Password is valid!\n"
     ]
    }
   ],
   "source": [
    "password_validation()"
   ]
  },
  {
   "cell_type": "markdown",
   "id": "4f912955-8b1a-49b5-90ea-b5be01f35c3e",
   "metadata": {},
   "source": [
    "# Question 4: \n",
    "\n",
    "# Write a Python program to create a custom module named math_operations. This module should contain the following functions:\n",
    "# 1. add(a, b): Returns the sum of two numbers.\n",
    "# 2. subtract(a, b): Returns the difference between two numbers.\n",
    "# 3. multiply(a, b): Returns the product of two numbers.\n",
    "# 4. divide(a, b): Returns the quotient of two numbers (handle division by zero by returning a message: \"Cannot divide by zero\").\n",
    "# Write another Python script to import the math_operations module and use its functions to perform operations on two input numbers.\n"
   ]
  },
  {
   "cell_type": "code",
   "execution_count": null,
   "id": "a26e16c3-0391-4480-aa4f-023021bb3a05",
   "metadata": {},
   "outputs": [],
   "source": []
  },
  {
   "cell_type": "markdown",
   "id": "55f49b54-2a55-4a0a-8806-69f95d0b6ebc",
   "metadata": {},
   "source": []
  },
  {
   "cell_type": "code",
   "execution_count": null,
   "id": "580b7765-85b3-4d61-950e-ea7c3820d41c",
   "metadata": {},
   "outputs": [],
   "source": []
  }
 ],
 "metadata": {
  "kernelspec": {
   "display_name": "Python 3 (ipykernel)",
   "language": "python",
   "name": "python3"
  },
  "language_info": {
   "codemirror_mode": {
    "name": "ipython",
    "version": 3
   },
   "file_extension": ".py",
   "mimetype": "text/x-python",
   "name": "python",
   "nbconvert_exporter": "python",
   "pygments_lexer": "ipython3",
   "version": "3.12.4"
  }
 },
 "nbformat": 4,
 "nbformat_minor": 5
}
