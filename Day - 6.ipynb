{
 "cells": [
  {
   "cell_type": "markdown",
   "id": "5c1f38c9-9deb-4c58-9248-e566744400a4",
   "metadata": {},
   "source": [
    "# Day - 6"
   ]
  },
  {
   "cell_type": "markdown",
   "id": "ee0899cc-0c67-4d35-8ad5-87b4a4ce72b3",
   "metadata": {},
   "source": [
    "# user defined functions"
   ]
  },
  {
   "cell_type": "markdown",
   "id": "09fcddb8-e541-4086-91a6-bd0db5b19a29",
   "metadata": {},
   "source": [
    "# creating a user defined functions"
   ]
  },
  {
   "cell_type": "code",
   "execution_count": 4,
   "id": "45ed59af-9312-4c75-8b5c-cbaa1076e7e8",
   "metadata": {},
   "outputs": [],
   "source": [
    "def my_function():\n",
    "    print(\"hello class\")\n",
    "    print(\"we are learning python\")"
   ]
  },
  {
   "cell_type": "markdown",
   "id": "a5f84387-c29b-4f94-aa5c-bf721e4e7ea8",
   "metadata": {},
   "source": [
    "# calling a function"
   ]
  },
  {
   "cell_type": "code",
   "execution_count": 5,
   "id": "3cbae460-b91e-4fac-806c-1ace0579b5ed",
   "metadata": {},
   "outputs": [
    {
     "name": "stdout",
     "output_type": "stream",
     "text": [
      "hello class\n",
      "we are learning python\n"
     ]
    }
   ],
   "source": [
    "my_function()"
   ]
  },
  {
   "cell_type": "markdown",
   "id": "7552ad03-2a56-451d-ad28-78d84f8a15f2",
   "metadata": {},
   "source": [
    "# Making a result of a student"
   ]
  },
  {
   "cell_type": "code",
   "execution_count": null,
   "id": "df47b019-38ad-4c8f-ad64-b064a6d061c1",
   "metadata": {},
   "outputs": [],
   "source": [
    "def my_contact():\n",
    "    print(\"contact details of a school\")\n",
    "    print(\"Delhi Public School\")\n",
    "    print(\"Chandigarh,Punjab\")\n",
    "    print(\"78563455536\")\n",
    "    print(\"dps.contact@gmail.com\")"
   ]
  },
  {
   "cell_type": "code",
   "execution_count": null,
   "id": "6f0d771c-2256-4b27-b676-9786c458ff40",
   "metadata": {},
   "outputs": [],
   "source": [
    "for i in range(4):\n",
    "    a = input(\"name of the student\")\n",
    "    b = int(input(\"enter the marks of maths\"))\n",
    "    c = int(input(\"enter the marks of science\"))\n",
    "    d = int(input(\"enter the marks of social science\"))\n",
    "    print()\n",
    "    my_contact()\n",
    "    "
   ]
  },
  {
   "cell_type": "code",
   "execution_count": null,
   "id": "18d1ca5c-df10-460b-ad3d-de59881df39f",
   "metadata": {},
   "outputs": [],
   "source": []
  }
 ],
 "metadata": {
  "kernelspec": {
   "display_name": "Python 3 (ipykernel)",
   "language": "python",
   "name": "python3"
  },
  "language_info": {
   "codemirror_mode": {
    "name": "ipython",
    "version": 3
   },
   "file_extension": ".py",
   "mimetype": "text/x-python",
   "name": "python",
   "nbconvert_exporter": "python",
   "pygments_lexer": "ipython3",
   "version": "3.12.4"
  }
 },
 "nbformat": 4,
 "nbformat_minor": 5
}
