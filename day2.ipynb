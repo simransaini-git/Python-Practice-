{
 "cells": [
  {
   "cell_type": "markdown",
   "id": "f8bbf289-38ee-43b1-9c43-49dcf5ac073b",
   "metadata": {},
   "source": [
    "# day 2"
   ]
  },
  {
   "cell_type": "markdown",
   "id": "4a95d4cb-c944-4bea-9d79-27a847325987",
   "metadata": {},
   "source": [
    "# Variables and Operators"
   ]
  },
  {
   "cell_type": "code",
   "execution_count": 1,
   "id": "3831bc13-747e-4f4f-8c43-3482e56be570",
   "metadata": {},
   "outputs": [
    {
     "name": "stdout",
     "output_type": "stream",
     "text": [
      "1\n"
     ]
    }
   ],
   "source": [
    "a = 1\n",
    "print(a)"
   ]
  },
  {
   "cell_type": "code",
   "execution_count": 2,
   "id": "441fb031-b5f0-44e6-8b06-f4928819456b",
   "metadata": {},
   "outputs": [
    {
     "name": "stdout",
     "output_type": "stream",
     "text": [
      "2 2.3\n"
     ]
    }
   ],
   "source": [
    "b = 2\n",
    "c = 2.3\n",
    "print(b,c)"
   ]
  },
  {
   "cell_type": "code",
   "execution_count": 4,
   "id": "bfcb8bb6-1a16-4d66-9965-38b9145c43d0",
   "metadata": {},
   "outputs": [
    {
     "name": "stdout",
     "output_type": "stream",
     "text": [
      " apple \n"
     ]
    }
   ],
   "source": [
    "x = \" apple \"\n",
    "print( x)"
   ]
  },
  {
   "cell_type": "code",
   "execution_count": 5,
   "id": "8087c330-fd3c-4bc7-bc97-bf2b51cce1de",
   "metadata": {},
   "outputs": [
    {
     "name": "stdout",
     "output_type": "stream",
     "text": [
      "23\n"
     ]
    }
   ],
   "source": [
    "student = 23 \n",
    "print(student)"
   ]
  },
  {
   "cell_type": "code",
   "execution_count": 6,
   "id": "030c7a98-7d3c-4072-8987-3b3fb0442eef",
   "metadata": {},
   "outputs": [
    {
     "ename": "SyntaxError",
     "evalue": "invalid syntax (1338106692.py, line 1)",
     "output_type": "error",
     "traceback": [
      "\u001b[1;36m  Cell \u001b[1;32mIn[6], line 1\u001b[1;36m\u001b[0m\n\u001b[1;33m    1&@ = 2\u001b[0m\n\u001b[1;37m      ^\u001b[0m\n\u001b[1;31mSyntaxError\u001b[0m\u001b[1;31m:\u001b[0m invalid syntax\n"
     ]
    }
   ],
   "source": [
    "1&@ = 2\n",
    "print(1@&)"
   ]
  },
  {
   "cell_type": "code",
   "execution_count": 7,
   "id": "fb103745-dc65-40dd-a532-683d10350806",
   "metadata": {},
   "outputs": [
    {
     "name": "stdout",
     "output_type": "stream",
     "text": [
      "25\n"
     ]
    }
   ],
   "source": [
    "student123 =25\n",
    "print(student123)"
   ]
  },
  {
   "cell_type": "code",
   "execution_count": 9,
   "id": "e9898316-0491-401e-bf3c-36f5a419e9f4",
   "metadata": {},
   "outputs": [
    {
     "name": "stdout",
     "output_type": "stream",
     "text": [
      "5\n"
     ]
    }
   ],
   "source": [
    "_a = 5\n",
    "print(_a)"
   ]
  },
  {
   "cell_type": "markdown",
   "id": "d1b65f21-322f-4206-bd39-5a3a838d4e29",
   "metadata": {},
   "source": [
    "# Many value to multiple variable"
   ]
  },
  {
   "cell_type": "code",
   "execution_count": 11,
   "id": "9b3e3edf-7a6f-469a-a275-4eb47f40e327",
   "metadata": {},
   "outputs": [
    {
     "name": "stdout",
     "output_type": "stream",
     "text": [
      "orange banana cherry\n"
     ]
    }
   ],
   "source": [
    "x,y,z = \"orange\",\"banana\",\"cherry\"\n",
    "print(x,y,z)"
   ]
  },
  {
   "cell_type": "code",
   "execution_count": 12,
   "id": "1e94dbdf-755c-4fc0-83e2-0b9c17bfb750",
   "metadata": {},
   "outputs": [
    {
     "name": "stdout",
     "output_type": "stream",
     "text": [
      "orange\n",
      "orange\n",
      "orange\n"
     ]
    }
   ],
   "source": [
    "x=y=z = \"orange\"\n",
    "print(x)\n",
    "print(y)\n",
    "print(z)\n"
   ]
  },
  {
   "cell_type": "markdown",
   "id": "9c9de29d-a3c3-4d4a-8f80-c833c4cda658",
   "metadata": {},
   "source": [
    "# Python output variables"
   ]
  },
  {
   "cell_type": "code",
   "execution_count": 13,
   "id": "cb77f0a8-33a3-483a-8871-11f4598deff6",
   "metadata": {},
   "outputs": [
    {
     "name": "stdout",
     "output_type": "stream",
     "text": [
      "python is amazing\n",
      "\n",
      "python\n",
      "is\n",
      "amazing\n"
     ]
    }
   ],
   "source": [
    "x = \"python\"\n",
    "y =\"is\"\n",
    "z =\"amazing\"\n",
    "print(x,y,z)\n",
    "\n",
    "print()\n",
    "\n",
    "print(x)\n",
    "print(y)\n",
    "print(z)\n"
   ]
  },
  {
   "cell_type": "markdown",
   "id": "31519d66-9e72-471a-a135-88fc710596ce",
   "metadata": {},
   "source": [
    "# Data Types"
   ]
  },
  {
   "cell_type": "code",
   "execution_count": 14,
   "id": "a2847877-7c64-4147-8955-f80ba9c1904e",
   "metadata": {},
   "outputs": [
    {
     "name": "stdout",
     "output_type": "stream",
     "text": [
      "2\n",
      "<class 'int'>\n"
     ]
    }
   ],
   "source": [
    "x = 2\n",
    "print(x)\n",
    "print(type(x))"
   ]
  },
  {
   "cell_type": "code",
   "execution_count": 15,
   "id": "e1a9d55d-c8a6-43fd-881b-9529e71dd197",
   "metadata": {},
   "outputs": [
    {
     "name": "stdout",
     "output_type": "stream",
     "text": [
      "4.5\n",
      "<class 'float'>\n"
     ]
    }
   ],
   "source": [
    "y = 4.5\n",
    "print(y)\n",
    "print(type(y))"
   ]
  },
  {
   "cell_type": "code",
   "execution_count": 16,
   "id": "d66276ba-f72f-4a13-a5d5-50a2bfdef48b",
   "metadata": {},
   "outputs": [
    {
     "name": "stdout",
     "output_type": "stream",
     "text": [
      "(2+5j)\n",
      "<class 'complex'>\n"
     ]
    }
   ],
   "source": [
    "z = 2+5j\n",
    "print(z)\n",
    "print(type(z))"
   ]
  },
  {
   "cell_type": "code",
   "execution_count": 17,
   "id": "2e66f5aa-df57-4545-8a3a-a9b0c4730eb0",
   "metadata": {},
   "outputs": [
    {
     "name": "stdout",
     "output_type": "stream",
     "text": [
      "this is the day 2 of python class\n",
      "<class 'str'>\n"
     ]
    }
   ],
   "source": [
    "a = \"this is the day 2 of python class\"\n",
    "print(a)\n",
    "print(type(a))"
   ]
  },
  {
   "cell_type": "code",
   "execution_count": 18,
   "id": "6fa914f7-5620-43e7-a0b5-cffbbd2800b8",
   "metadata": {},
   "outputs": [
    {
     "name": "stdout",
     "output_type": "stream",
     "text": [
      "[1, 2, 3, 4, 5, 6, 7, 8, 9, 10]\n",
      "<class 'list'>\n"
     ]
    }
   ],
   "source": [
    "b =[1,2,3,4,5,6,7,8,9,10]\n",
    "print(b)\n",
    "print(type(b))"
   ]
  },
  {
   "cell_type": "code",
   "execution_count": 19,
   "id": "ac50d183-3342-4156-a372-fab03072686e",
   "metadata": {},
   "outputs": [
    {
     "name": "stdout",
     "output_type": "stream",
     "text": [
      "(1, 2, 3, 4, 5, 6, 7, 8, 9, 10)\n",
      "<class 'tuple'>\n"
     ]
    }
   ],
   "source": [
    "c =(1,2,3,4,5,6,7,8,9,10)\n",
    "print(c)\n",
    "print(type(c))"
   ]
  },
  {
   "cell_type": "code",
   "execution_count": 20,
   "id": "3ba8e505-3885-48a7-85b8-29f5c485add8",
   "metadata": {},
   "outputs": [
    {
     "name": "stdout",
     "output_type": "stream",
     "text": [
      "Variable     Type       Data/Info\n",
      "---------------------------------\n",
      "a            str        this is the day 2 of python class\n",
      "b            list       n=10\n",
      "c            tuple      n=10\n",
      "student      int        23\n",
      "student123   int        25\n",
      "x            int        2\n",
      "y            float      4.5\n",
      "z            complex    (2+5j)\n"
     ]
    }
   ],
   "source": [
    "%whos"
   ]
  },
  {
   "cell_type": "markdown",
   "id": "94413994-981b-419d-85f7-4563dc3f751b",
   "metadata": {},
   "source": [
    "# Operators in python"
   ]
  },
  {
   "cell_type": "code",
   "execution_count": 21,
   "id": "abb64d2b-cae4-4abd-8203-cf573617770b",
   "metadata": {},
   "outputs": [
    {
     "name": "stdout",
     "output_type": "stream",
     "text": [
      "8\n"
     ]
    }
   ],
   "source": [
    "a = 5\n",
    "b = 3\n",
    "print(a+b)"
   ]
  },
  {
   "cell_type": "code",
   "execution_count": 22,
   "id": "614677f6-024f-4885-bd0d-3c9c31026d12",
   "metadata": {},
   "outputs": [
    {
     "name": "stdout",
     "output_type": "stream",
     "text": [
      "7.3\n"
     ]
    }
   ],
   "source": [
    "a = 5\n",
    "b = 2.3\n",
    "print(a+b)"
   ]
  },
  {
   "cell_type": "code",
   "execution_count": 23,
   "id": "5129fc16-7815-4009-892b-677145716585",
   "metadata": {},
   "outputs": [
    {
     "name": "stdout",
     "output_type": "stream",
     "text": [
      "(9+2j)\n"
     ]
    }
   ],
   "source": [
    "a = 5+2j\n",
    "b = 4\n",
    "print(a+b)"
   ]
  },
  {
   "cell_type": "code",
   "execution_count": 26,
   "id": "d8456866-88f3-49d4-9f18-e82a5ccbd9b8",
   "metadata": {},
   "outputs": [
    {
     "name": "stdout",
     "output_type": "stream",
     "text": [
      "hello students\n"
     ]
    }
   ],
   "source": [
    "a = \"hello\"\n",
    "b = \"students\"\n",
    "print(a + \" \" +b)"
   ]
  },
  {
   "cell_type": "markdown",
   "id": "fcb8fa1e-89c6-4e68-89f1-f85d63e37821",
   "metadata": {},
   "source": [
    "# subtraction"
   ]
  },
  {
   "cell_type": "code",
   "execution_count": 28,
   "id": "72024961-e879-4fb9-a903-c286353f6c11",
   "metadata": {},
   "outputs": [
    {
     "name": "stdout",
     "output_type": "stream",
     "text": [
      "9\n"
     ]
    }
   ],
   "source": [
    "a = 15\n",
    "b = 6\n",
    "print(a-b)"
   ]
  },
  {
   "cell_type": "code",
   "execution_count": 29,
   "id": "6d5e1876-c2e7-4491-9974-71298a1f4d86",
   "metadata": {},
   "outputs": [
    {
     "name": "stdout",
     "output_type": "stream",
     "text": [
      "-3.101000000000001\n"
     ]
    }
   ],
   "source": [
    "a = 5.4758\n",
    "b = 8.5768\n",
    "print(a-b)"
   ]
  },
  {
   "cell_type": "code",
   "execution_count": 30,
   "id": "38b30c78-d7cb-49b5-95e4-d3dd703c08c3",
   "metadata": {},
   "outputs": [
    {
     "name": "stdout",
     "output_type": "stream",
     "text": [
      "(2+6j)\n"
     ]
    }
   ],
   "source": [
    "a = 5+6j\n",
    "b =3\n",
    "print(a-b)"
   ]
  },
  {
   "cell_type": "markdown",
   "id": "ed5b84de-3d15-4cfe-a49c-d49e1a657e5d",
   "metadata": {},
   "source": [
    "# multiplication"
   ]
  },
  {
   "cell_type": "code",
   "execution_count": 31,
   "id": "7e82f338-f51b-42ce-8d10-3688f1bf6a45",
   "metadata": {},
   "outputs": [
    {
     "name": "stdout",
     "output_type": "stream",
     "text": [
      "840\n"
     ]
    }
   ],
   "source": [
    "a =15\n",
    "b = 56\n",
    "print(a*b)"
   ]
  },
  {
   "cell_type": "code",
   "execution_count": 32,
   "id": "2d7bd72b-13e0-4b05-a1cf-e862351b4f44",
   "metadata": {},
   "outputs": [
    {
     "name": "stdout",
     "output_type": "stream",
     "text": [
      "37.7399626\n"
     ]
    }
   ],
   "source": [
    "a=5.678\n",
    "b=6.6467\n",
    "print(a*b)\n"
   ]
  },
  {
   "cell_type": "markdown",
   "id": "4e257610-dba3-4247-b965-2f0c01c25e47",
   "metadata": {},
   "source": [
    "# division"
   ]
  },
  {
   "cell_type": "code",
   "execution_count": 33,
   "id": "978bd632-3090-45f6-bdfc-ae49ca4caa54",
   "metadata": {},
   "outputs": [
    {
     "name": "stdout",
     "output_type": "stream",
     "text": [
      "2.0\n"
     ]
    }
   ],
   "source": [
    "a = 10\n",
    "b = 5\n",
    "print(a/b)"
   ]
  },
  {
   "cell_type": "markdown",
   "id": "590f1f2b-648d-4d04-9663-160f92051333",
   "metadata": {},
   "source": [
    "# Modulous operator means remainder of two numbers"
   ]
  },
  {
   "cell_type": "code",
   "execution_count": 34,
   "id": "706b4e67-7c9c-480d-80c8-5504d39e590d",
   "metadata": {},
   "outputs": [
    {
     "name": "stdout",
     "output_type": "stream",
     "text": [
      "1\n"
     ]
    }
   ],
   "source": [
    "a = 19\n",
    "b = 3\n",
    "print(a%b)\n"
   ]
  },
  {
   "cell_type": "code",
   "execution_count": 35,
   "id": "9cea7cdd-03a2-4181-b675-5d50573fdd89",
   "metadata": {},
   "outputs": [
    {
     "name": "stdout",
     "output_type": "stream",
     "text": [
      "0\n"
     ]
    }
   ],
   "source": [
    "a =12\n",
    "b =4\n",
    "print(a%b)"
   ]
  },
  {
   "cell_type": "markdown",
   "id": "2145da5c-0c83-49e8-a52c-648a7817b8e6",
   "metadata": {},
   "source": [
    "# exponent"
   ]
  },
  {
   "cell_type": "code",
   "execution_count": 36,
   "id": "d9fbe482-ed6e-439a-b5ea-05c0e9f9fb6c",
   "metadata": {},
   "outputs": [
    {
     "name": "stdout",
     "output_type": "stream",
     "text": [
      "71162028433520217717099884851404495326786614148274137562533191244754226421072922193229393035406290047490322006127486170528820460414671897074184746917638236810663780872933871199771053029074871072046645088603300420278272474373361352870797685329285463690039885441075398107839063255747535400015566353549647882767414182717586010912021318113386679928289227315380064286145450539958069165193638416244911434618495833200180049949\n"
     ]
    }
   ],
   "source": [
    "a = 41256789\n",
    "print(a**55)"
   ]
  },
  {
   "cell_type": "code",
   "execution_count": 38,
   "id": "b51059be-1af5-4cdd-ac7f-d9857c1a6b7f",
   "metadata": {},
   "outputs": [
    {
     "name": "stdout",
     "output_type": "stream",
     "text": [
      "2.990489165920469e+196\n"
     ]
    }
   ],
   "source": [
    " a = ((859 * 78)+ (78.256/89)+(856**67)+(145698-7526))\n",
    "print(a)\n"
   ]
  },
  {
   "cell_type": "markdown",
   "id": "410fea9a-8721-4ddb-b9da-279d9d293eb9",
   "metadata": {},
   "source": [
    "# boolean"
   ]
  },
  {
   "cell_type": "code",
   "execution_count": 50,
   "id": "00f54f09-ffe2-4682-9f8f-e55bc2571cd9",
   "metadata": {},
   "outputs": [
    {
     "name": "stdout",
     "output_type": "stream",
     "text": [
      "False\n"
     ]
    }
   ],
   "source": [
    "a = True\n",
    "b = False\n",
    "print( not (a))"
   ]
  },
  {
   "cell_type": "code",
   "execution_count": 52,
   "id": "1ea84394-5e52-4e12-931c-efd12be40647",
   "metadata": {},
   "outputs": [
    {
     "name": "stdout",
     "output_type": "stream",
     "text": [
      "20637005.183908045\n"
     ]
    }
   ],
   "source": [
    "a = ((8922 *2852) + (7821*222)- (25566*256)+(8281/87))\n",
    "print(a)"
   ]
  },
  {
   "cell_type": "code",
   "execution_count": null,
   "id": "98a8bf76-1a69-4cb5-90e0-3d23ded31457",
   "metadata": {},
   "outputs": [],
   "source": []
  }
 ],
 "metadata": {
  "kernelspec": {
   "display_name": "Python 3 (ipykernel)",
   "language": "python",
   "name": "python3"
  },
  "language_info": {
   "codemirror_mode": {
    "name": "ipython",
    "version": 3
   },
   "file_extension": ".py",
   "mimetype": "text/x-python",
   "name": "python",
   "nbconvert_exporter": "python",
   "pygments_lexer": "ipython3",
   "version": "3.12.4"
  }
 },
 "nbformat": 4,
 "nbformat_minor": 5
}
