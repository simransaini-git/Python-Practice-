{
 "cells": [
  {
   "cell_type": "markdown",
   "id": "bed9d034-1819-48a7-ba46-540700d5ef5c",
   "metadata": {},
   "source": [
    "# DAY -5"
   ]
  },
  {
   "cell_type": "markdown",
   "id": "2ee05ea1-15a7-4af4-a35c-6df1543e4c6d",
   "metadata": {},
   "source": [
    "# concept of loops"
   ]
  },
  {
   "cell_type": "markdown",
   "id": "c3118f60-217c-4536-b767-a1de3e82f814",
   "metadata": {},
   "source": [
    "\n",
    "# while loops"
   ]
  },
  {
   "cell_type": "markdown",
   "id": "baac7551-5157-4589-ac78-25e7e02a9ccc",
   "metadata": {},
   "source": [
    "# program to display numbers from 1 to 5"
   ]
  },
  {
   "cell_type": "code",
   "execution_count": 2,
   "id": "5d592733-6942-47d1-97f6-10e73606bb65",
   "metadata": {},
   "outputs": [
    {
     "name": "stdout",
     "output_type": "stream",
     "text": [
      "1\n",
      "2\n",
      "3\n",
      "4\n",
      "5\n"
     ]
    }
   ],
   "source": [
    "i = 1\n",
    "n = 5\n",
    "while i<=n:\n",
    "    print(i)\n",
    "    i=i+1"
   ]
  },
  {
   "cell_type": "markdown",
   "id": "5bf7db80-35cb-44ae-a32c-bda8a8affa95",
   "metadata": {},
   "source": [
    "enter the value from a user and make a multiplication table till 10."
   ]
  },
  {
   "cell_type": "code",
   "execution_count": 4,
   "id": "68787f83-3261-4bea-8fb0-51f841212e1c",
   "metadata": {},
   "outputs": [
    {
     "name": "stdin",
     "output_type": "stream",
     "text": [
      "enter the value 15\n"
     ]
    },
    {
     "name": "stdout",
     "output_type": "stream",
     "text": [
      "15\n",
      "30\n",
      "45\n",
      "60\n",
      "75\n",
      "90\n",
      "105\n",
      "120\n",
      "135\n",
      "150\n",
      "this is the table\n"
     ]
    }
   ],
   "source": [
    "x = int(input(\"enter the value\"))\n",
    "i = 1\n",
    "while i<=10:\n",
    "    print(x*i)\n",
    "    i = i+1\n",
    "print(\"this is the table\")"
   ]
  },
  {
   "cell_type": "code",
   "execution_count": null,
   "id": "bebf24f2-4eae-493f-8030-6e6552b04dfd",
   "metadata": {},
   "outputs": [],
   "source": []
  },
  {
   "cell_type": "code",
   "execution_count": null,
   "id": "45d2e5eb-7050-4381-adcb-c3bdd49096c8",
   "metadata": {},
   "outputs": [],
   "source": []
  }
 ],
 "metadata": {
  "kernelspec": {
   "display_name": "Python 3 (ipykernel)",
   "language": "python",
   "name": "python3"
  },
  "language_info": {
   "codemirror_mode": {
    "name": "ipython",
    "version": 3
   },
   "file_extension": ".py",
   "mimetype": "text/x-python",
   "name": "python",
   "nbconvert_exporter": "python",
   "pygments_lexer": "ipython3",
   "version": "3.12.4"
  }
 },
 "nbformat": 4,
 "nbformat_minor": 5
}
