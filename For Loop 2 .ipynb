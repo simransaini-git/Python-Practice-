{
 "cells": [
  {
   "cell_type": "code",
   "execution_count": 3,
   "id": "dbe22dff-cbb1-4fb5-bcf4-ec0615e9f83b",
   "metadata": {},
   "outputs": [],
   "source": [
    "l1 = [1,2,3,4]\n",
    "l2 =[1,2,3,4]"
   ]
  },
  {
   "cell_type": "code",
   "execution_count": 4,
   "id": "58fe4fa4-49c3-4d96-b99b-3225ed19b802",
   "metadata": {},
   "outputs": [
    {
     "data": {
      "text/plain": [
       "True"
      ]
     },
     "execution_count": 4,
     "metadata": {},
     "output_type": "execute_result"
    }
   ],
   "source": [
    "l1 == l2"
   ]
  },
  {
   "cell_type": "code",
   "execution_count": 5,
   "id": "7a4f3cd9-a443-4c70-b1f1-56de47e1f3ce",
   "metadata": {},
   "outputs": [
    {
     "name": "stdout",
     "output_type": "stream",
     "text": [
      "<class 'list'>\n"
     ]
    }
   ],
   "source": [
    "# object: anything which stores any lind of information\n",
    "\n",
    "print(type(l1))"
   ]
  },
  {
   "cell_type": "code",
   "execution_count": 6,
   "id": "97f5a475-965f-4736-81cc-d1d745d1aba5",
   "metadata": {},
   "outputs": [],
   "source": [
    "# l1 and l2 are objects of a list\n",
    "# l1 and la are SEPARATE INSTANCES of list "
   ]
  },
  {
   "cell_type": "code",
   "execution_count": 7,
   "id": "655444c6-c889-4b5b-93d3-6472a199d311",
   "metadata": {},
   "outputs": [
    {
     "data": {
      "text/plain": [
       "False"
      ]
     },
     "execution_count": 7,
     "metadata": {},
     "output_type": "execute_result"
    }
   ],
   "source": [
    "l1 is l2 "
   ]
  },
  {
   "cell_type": "code",
   "execution_count": 8,
   "id": "b71e00b4-7a69-4424-ab9d-f7fd5d29abef",
   "metadata": {},
   "outputs": [],
   "source": [
    "l1.append(5)"
   ]
  },
  {
   "cell_type": "code",
   "execution_count": 9,
   "id": "321d4f36-adc2-48ab-83a2-2a7ccea58c88",
   "metadata": {},
   "outputs": [
    {
     "data": {
      "text/plain": [
       "[1, 2, 3, 4]"
      ]
     },
     "execution_count": 9,
     "metadata": {},
     "output_type": "execute_result"
    }
   ],
   "source": [
    "l2"
   ]
  },
  {
   "cell_type": "code",
   "execution_count": 10,
   "id": "49dc01c2-a46a-4d57-8fc3-8c18ce7bb733",
   "metadata": {},
   "outputs": [
    {
     "data": {
      "text/plain": [
       "[1, 2, 3, 4, 5]"
      ]
     },
     "execution_count": 10,
     "metadata": {},
     "output_type": "execute_result"
    }
   ],
   "source": [
    "l1"
   ]
  },
  {
   "cell_type": "code",
   "execution_count": 11,
   "id": "a81ed0fb-7297-4f4d-8c85-3e844aa793e0",
   "metadata": {},
   "outputs": [],
   "source": [
    "l1 = [1,2,3,4]\n",
    "l2 =[1,2,3,4]"
   ]
  },
  {
   "cell_type": "code",
   "execution_count": 12,
   "id": "196c4a68-a9f4-4c95-be02-66a9ec2e8f3c",
   "metadata": {},
   "outputs": [],
   "source": [
    "l3 =l1"
   ]
  },
  {
   "cell_type": "code",
   "execution_count": 13,
   "id": "31de5fe0-7953-4caf-870b-f6fc22963779",
   "metadata": {},
   "outputs": [
    {
     "name": "stdout",
     "output_type": "stream",
     "text": [
      "[1, 2, 3, 4]\n",
      "[1, 2, 3, 4]\n",
      "[1, 2, 3, 4]\n"
     ]
    }
   ],
   "source": [
    "print(l1)\n",
    "print(l2)\n",
    "print(l3)"
   ]
  },
  {
   "cell_type": "code",
   "execution_count": 14,
   "id": "132e0b7c-3dde-46d7-838d-a8e27c6d7633",
   "metadata": {},
   "outputs": [
    {
     "data": {
      "text/plain": [
       "True"
      ]
     },
     "execution_count": 14,
     "metadata": {},
     "output_type": "execute_result"
    }
   ],
   "source": [
    "l1==l2"
   ]
  },
  {
   "cell_type": "code",
   "execution_count": 15,
   "id": "6d867bb7-c5f2-4d8b-bbeb-c081afe65194",
   "metadata": {},
   "outputs": [
    {
     "data": {
      "text/plain": [
       "True"
      ]
     },
     "execution_count": 15,
     "metadata": {},
     "output_type": "execute_result"
    }
   ],
   "source": [
    "l1==l3"
   ]
  },
  {
   "cell_type": "code",
   "execution_count": 16,
   "id": "5b859fd0-3ce5-4144-93a9-b4c2594fa01b",
   "metadata": {},
   "outputs": [
    {
     "data": {
      "text/plain": [
       "True"
      ]
     },
     "execution_count": 16,
     "metadata": {},
     "output_type": "execute_result"
    }
   ],
   "source": [
    "l2==l3"
   ]
  },
  {
   "cell_type": "code",
   "execution_count": 17,
   "id": "9617bd20-59ae-4afc-b377-2f70139c2a6f",
   "metadata": {},
   "outputs": [
    {
     "data": {
      "text/plain": [
       "False"
      ]
     },
     "execution_count": 17,
     "metadata": {},
     "output_type": "execute_result"
    }
   ],
   "source": [
    "l1 is l2"
   ]
  },
  {
   "cell_type": "code",
   "execution_count": 18,
   "id": "822e1c95-50bb-4d97-80c0-8e1d08d05e19",
   "metadata": {},
   "outputs": [
    {
     "data": {
      "text/plain": [
       "True"
      ]
     },
     "execution_count": 18,
     "metadata": {},
     "output_type": "execute_result"
    }
   ],
   "source": [
    "l1 is l3"
   ]
  },
  {
   "cell_type": "code",
   "execution_count": 19,
   "id": "e57741cf-7e31-45a9-8f40-652088a49f52",
   "metadata": {},
   "outputs": [],
   "source": [
    "l1.append(5)"
   ]
  },
  {
   "cell_type": "code",
   "execution_count": 20,
   "id": "e93a70a2-cdcc-4c04-8d94-42e719a04c44",
   "metadata": {},
   "outputs": [
    {
     "data": {
      "text/plain": [
       "[1, 2, 3, 4, 5]"
      ]
     },
     "execution_count": 20,
     "metadata": {},
     "output_type": "execute_result"
    }
   ],
   "source": [
    "l1"
   ]
  },
  {
   "cell_type": "code",
   "execution_count": 21,
   "id": "52c819f2-9d2d-41df-9812-298801251966",
   "metadata": {},
   "outputs": [
    {
     "data": {
      "text/plain": [
       "[1, 2, 3, 4, 5]"
      ]
     },
     "execution_count": 21,
     "metadata": {},
     "output_type": "execute_result"
    }
   ],
   "source": [
    "l3"
   ]
  },
  {
   "cell_type": "code",
   "execution_count": 22,
   "id": "a076f1b5-6d07-4d09-89d3-37fd5a1d015c",
   "metadata": {},
   "outputs": [],
   "source": [
    "l1 =[1,2,3,4]\n",
    "l2 =[1,2,3,4]\n",
    "l3 = l1  # same memory location\n",
    "l4 = l1.copy() # different memory location "
   ]
  },
  {
   "cell_type": "code",
   "execution_count": 23,
   "id": "3ceddcc9-0901-4df0-b70e-6280d9423da1",
   "metadata": {},
   "outputs": [
    {
     "data": {
      "text/plain": [
       "False"
      ]
     },
     "execution_count": 23,
     "metadata": {},
     "output_type": "execute_result"
    }
   ],
   "source": [
    "l4 is l1"
   ]
  },
  {
   "cell_type": "code",
   "execution_count": 24,
   "id": "a8c68edf-7744-45e5-b799-ed1e102069f9",
   "metadata": {},
   "outputs": [],
   "source": [
    "# original > same memory with different variable name "
   ]
  },
  {
   "cell_type": "code",
   "execution_count": 32,
   "id": "01ec3b7d-f934-48aa-a6be-a1424c14db32",
   "metadata": {},
   "outputs": [
    {
     "name": "stdin",
     "output_type": "stream",
     "text": [
      "Enter the salary :  5000\n",
      "Enter gender :  male\n"
     ]
    },
    {
     "name": "stdout",
     "output_type": "stream",
     "text": [
      "Bonus: 350.00000000000006, \n",
      " Total Salary: 5350.0\n"
     ]
    },
    {
     "name": "stdin",
     "output_type": "stream",
     "text": [
      "Enter the salary :  5200\n",
      "Enter gender :  male\n"
     ]
    },
    {
     "name": "stdout",
     "output_type": "stream",
     "text": [
      "Bonus: 364.00000000000006, \n",
      " Total Salary: 5564.0\n"
     ]
    },
    {
     "name": "stdin",
     "output_type": "stream",
     "text": [
      "Enter the salary :  56400\n",
      "Enter gender :  female\n"
     ]
    },
    {
     "name": "stdout",
     "output_type": "stream",
     "text": [
      "Bonus: 5640.0,\n",
      " Total Salary: 62040.0\n"
     ]
    }
   ],
   "source": [
    "for i in range(3):\n",
    "\n",
    "    base_salary =int(input('Enter the salary : '))\n",
    "    gender = input('Enter gender : ').lower()\n",
    "    \n",
    "    if base_salary>=10000:\n",
    "    \n",
    "        if gender=='male':\n",
    "    \n",
    "            bonus= 0.05*base_salary\n",
    "            total_salary = base_salary+bonus\n",
    "    \n",
    "            print(f'Bonus: {bonus},\\nTotal Salary: {total_salary}')\n",
    "            \n",
    "        elif gender=='female':\n",
    "    \n",
    "            bonus= 0.1*base_salary\n",
    "            total_salary = base_salary+bonus\n",
    "             \n",
    "            print(f'Bonus: {bonus},\\nTotal Salary: {total_salary}')\n",
    "    \n",
    "    else :\n",
    "    \n",
    "    \n",
    "        if gender=='male':\n",
    "    \n",
    "            bonus= 0.07*base_salary\n",
    "            total_salary = base_salary+bonus\n",
    "            print(f'Bonus: {bonus},\\nTotal Salary: {total_salary}')\n",
    "        \n",
    "        \n",
    "        elif gender=='female':\n",
    "    \n",
    "            bonus= 0.12*base_salary\n",
    "            total_salary = base_salary+bonus\n",
    "    \n",
    "            print(f'Bonus: {bonus},\\nTotal Salary: {total_salary}')\n",
    "    \n",
    "\n",
    "\n",
    "\n",
    "    "
   ]
  },
  {
   "cell_type": "markdown",
   "id": "d886a9e7-0e1d-411f-b7e9-fb51cd65f4b3",
   "metadata": {},
   "source": [
    "# Shortcut\n"
   ]
  },
  {
   "cell_type": "code",
   "execution_count": 27,
   "id": "dcfc5cc9-a69c-414a-a728-a9c9f7695838",
   "metadata": {},
   "outputs": [
    {
     "name": "stdout",
     "output_type": "stream",
     "text": [
      " 1,000,000\n"
     ]
    }
   ],
   "source": [
    " number = 1000000\n",
    "print(f'{number : ,}')"
   ]
  },
  {
   "cell_type": "code",
   "execution_count": 30,
   "id": "6895e84a-6226-4284-b12e-f66083e0ad37",
   "metadata": {},
   "outputs": [],
   "source": [
    "numbers =100000"
   ]
  },
  {
   "cell_type": "code",
   "execution_count": 31,
   "id": "2f3d0a86-862f-4b37-bd22-2ed128021e26",
   "metadata": {},
   "outputs": [
    {
     "name": "stdout",
     "output_type": "stream",
     "text": [
      "100000\n"
     ]
    }
   ],
   "source": [
    "print(numbers)"
   ]
  },
  {
   "cell_type": "code",
   "execution_count": 33,
   "id": "99b19e97-f29a-4138-a192-86aed02828ea",
   "metadata": {},
   "outputs": [
    {
     "name": "stdin",
     "output_type": "stream",
     "text": [
      "Enter name chip\n",
      "Enter name chocolate\n",
      "Enter name cold drink\n",
      "Enter name biscuits\n",
      "Enter name ice cream\n"
     ]
    }
   ],
   "source": [
    "records = {}   # {101:'chips',102 :'chocolate'...}\n",
    "\n",
    "for i in range(1,6):\n",
    "\n",
    "    barcode =100+i   # key\n",
    "    product_name =input('Enter name') # value\n",
    "\n",
    "    records.setdefault(barcode,product_name)\n",
    "    \n",
    " "
   ]
  },
  {
   "cell_type": "code",
   "execution_count": 34,
   "id": "434404d3-8b38-43eb-a444-497cb67b1bae",
   "metadata": {},
   "outputs": [
    {
     "data": {
      "text/plain": [
       "{101: 'chip',\n",
       " 102: 'chocolate',\n",
       " 103: 'cold drink',\n",
       " 104: 'biscuits',\n",
       " 105: 'ice cream'}"
      ]
     },
     "execution_count": 34,
     "metadata": {},
     "output_type": "execute_result"
    }
   ],
   "source": [
    "records"
   ]
  },
  {
   "cell_type": "code",
   "execution_count": 59,
   "id": "bc650dbf-78ee-4ab0-87f9-c24679cb04fe",
   "metadata": {},
   "outputs": [
    {
     "name": "stdin",
     "output_type": "stream",
     "text": [
      "Enter name chips\n",
      "Enter name chocolate\n",
      "Enter name cold drinks\n",
      "Enter name biscuits\n",
      "Enter name ice cream\n"
     ]
    }
   ],
   "source": [
    "records = {}   # {101:'chips',102 :'chocolate'...}\n",
    "\n",
    "for i in range(1,6):\n",
    "\n",
    "    barcode =100+i   # key\n",
    "    product_name =input('Enter name') # value   \n",
    "\n",
    "    records[barcode] = product_name\n",
    "\n",
    "\n"
   ]
  },
  {
   "cell_type": "code",
   "execution_count": 60,
   "id": "2ba06b82-5a33-4970-b903-d82443f77f6b",
   "metadata": {},
   "outputs": [
    {
     "data": {
      "text/plain": [
       "{101: 'chips',\n",
       " 102: 'chocolate',\n",
       " 103: 'cold drinks',\n",
       " 104: 'biscuits',\n",
       " 105: 'ice cream'}"
      ]
     },
     "execution_count": 60,
     "metadata": {},
     "output_type": "execute_result"
    }
   ],
   "source": [
    "records"
   ]
  },
  {
   "cell_type": "code",
   "execution_count": 61,
   "id": "91bf96a2-c401-4f29-9b37-80c5aec607d4",
   "metadata": {},
   "outputs": [],
   "source": [
    "names =(records.values())"
   ]
  },
  {
   "cell_type": "code",
   "execution_count": 62,
   "id": "2da6b75f-c136-4c61-b7b9-363ac221c98a",
   "metadata": {},
   "outputs": [
    {
     "data": {
      "text/plain": [
       "dict_values(['chips', 'chocolate', 'cold drinks', 'biscuits', 'ice cream'])"
      ]
     },
     "execution_count": 62,
     "metadata": {},
     "output_type": "execute_result"
    }
   ],
   "source": [
    "names"
   ]
  },
  {
   "cell_type": "code",
   "execution_count": 72,
   "id": "61c01af4-94ac-47d1-a799-aeb4eb142733",
   "metadata": {},
   "outputs": [],
   "source": [
    "names = ['chips','chocolate','cold drink','biscuits','ice cream']\n",
    "records = {}   # {101:'chips',102 :'chocolate'...}\n",
    "\n",
    "for i in range(len(names)):\n",
    "\n",
    "    barcode  = 100 + i + 1   # key\n",
    "    product_name = names[i]# value   \n",
    "\n",
    "    records[barcode] = product_name\n",
    "\n"
   ]
  },
  {
   "cell_type": "code",
   "execution_count": 73,
   "id": "9e2bc7e1-2482-41d6-931d-1595d5052398",
   "metadata": {},
   "outputs": [
    {
     "data": {
      "text/plain": [
       "{101: 'chips',\n",
       " 102: 'chocolate',\n",
       " 103: 'cold drink',\n",
       " 104: 'biscuits',\n",
       " 105: 'ice cream'}"
      ]
     },
     "execution_count": 73,
     "metadata": {},
     "output_type": "execute_result"
    }
   ],
   "source": [
    "records"
   ]
  },
  {
   "cell_type": "code",
   "execution_count": 74,
   "id": "cc1655ab-7ff7-4b32-b378-70958570eea4",
   "metadata": {},
   "outputs": [],
   "source": [
    "records ={'barcodes':[],'names':[]}\n",
    "\n",
    "for i in range(len(names)):\n",
    "    barcode  = 100 + i + 1   # key\n",
    "    product_name = names[i]# value \n",
    "\n",
    "    records['barcodes'].append(barcode)\n",
    "    records['names'].append(product_name)"
   ]
  },
  {
   "cell_type": "code",
   "execution_count": 75,
   "id": "3ac1cb59-2999-450b-a772-8977b217b825",
   "metadata": {},
   "outputs": [
    {
     "data": {
      "text/plain": [
       "{'barcodes': [101, 102, 103, 104, 105],\n",
       " 'names': ['chips', 'chocolate', 'cold drink', 'biscuits', 'ice cream']}"
      ]
     },
     "execution_count": 75,
     "metadata": {},
     "output_type": "execute_result"
    }
   ],
   "source": [
    "records\n"
   ]
  },
  {
   "cell_type": "code",
   "execution_count": null,
   "id": "f5fe8a3a-d02a-4808-afc4-a7dfb97a1211",
   "metadata": {},
   "outputs": [],
   "source": []
  },
  {
   "cell_type": "code",
   "execution_count": null,
   "id": "5fbf88f5-d8ab-488a-a2a6-7952f21507c8",
   "metadata": {},
   "outputs": [],
   "source": []
  }
 ],
 "metadata": {
  "kernelspec": {
   "display_name": "Python 3 (ipykernel)",
   "language": "python",
   "name": "python3"
  },
  "language_info": {
   "codemirror_mode": {
    "name": "ipython",
    "version": 3
   },
   "file_extension": ".py",
   "mimetype": "text/x-python",
   "name": "python",
   "nbconvert_exporter": "python",
   "pygments_lexer": "ipython3",
   "version": "3.12.4"
  }
 },
 "nbformat": 4,
 "nbformat_minor": 5
}
