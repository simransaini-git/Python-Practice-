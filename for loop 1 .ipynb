{
 "cells": [
  {
   "cell_type": "code",
   "execution_count": 1,
   "id": "7cb1a711-4d3f-40b1-a696-98a23279ef9d",
   "metadata": {},
   "outputs": [],
   "source": [
    "# if salary is less than 10k , 2% extra bonus on base salary\n",
    "\n",
    "# male employee : 5% on base salary\n",
    "# female employee :10% on base salary"
   ]
  },
  {
   "cell_type": "code",
   "execution_count": 18,
   "id": "3a50d400-9c85-409a-9000-6426819b2626",
   "metadata": {},
   "outputs": [
    {
     "name": "stdin",
     "output_type": "stream",
     "text": [
      "Enter the salary :  5000\n",
      "Enter gender :  female\n"
     ]
    },
    {
     "name": "stdout",
     "output_type": "stream",
     "text": [
      "Bonus: 600.0, Total Salary: 5600.0\n"
     ]
    }
   ],
   "source": [
    "base_salary =int(input('Enter the salary : '))\n",
    "gender = input('Enter gender : ').lower()\n",
    "\n",
    "if base_salary>=10000:\n",
    "\n",
    "    if gender=='male':\n",
    "\n",
    "        bonus= 0.05*base_salary\n",
    "        total_salary = base_salary+bonus\n",
    "\n",
    "        print(f'Bonus: {bonus}, Total Salary: {total_salary}')\n",
    "        \n",
    "    elif gender=='female':\n",
    "\n",
    "        bonus= 0.1*base_salary\n",
    "        total_salary = base_salary+bonus\n",
    "         \n",
    "        print(f'Bonus: {bonus}, Total Salary: {total_salary}')\n",
    "\n",
    "else :\n",
    "\n",
    "\n",
    "    if gender=='male':\n",
    "\n",
    "        bonus= 0.07*base_salary\n",
    "        total_salary = base_salary+bonus\n",
    "        print(f'Bonus: {bonus}, Total Salary: {total_salary}')\n",
    "    \n",
    "    \n",
    "    elif gender=='female':\n",
    "\n",
    "        bonus= 0.12*base_salary\n",
    "        total_salary = base_salary+bonus\n",
    "\n",
    "        print(f'Bonus: {bonus}, Total Salary: {total_salary}')\n",
    "\n",
    "\n",
    "\n",
    "\n",
    "\n"
   ]
  },
  {
   "cell_type": "markdown",
   "id": "d262cc46-5e58-4faa-b10a-62e090a8d781",
   "metadata": {},
   "source": [
    "# Loops"
   ]
  },
  {
   "cell_type": "code",
   "execution_count": 20,
   "id": "0466b9d6-df3e-478b-bc1e-f064c2529adb",
   "metadata": {},
   "outputs": [],
   "source": [
    "# for loop: range\n",
    "# while loop: condition\n"
   ]
  },
  {
   "cell_type": "code",
   "execution_count": 22,
   "id": "18db0b0b-0313-4e6c-977e-aa5f153d286f",
   "metadata": {},
   "outputs": [],
   "source": [
    "# LHS in RHS\n",
    "# list,tuple,dictionary,set\n",
    "# iterable: list,tuple,dictionary,set,string,range"
   ]
  },
  {
   "cell_type": "code",
   "execution_count": 23,
   "id": "f39a00aa-7339-4e91-ada7-cb2ee737b810",
   "metadata": {},
   "outputs": [
    {
     "name": "stdout",
     "output_type": "stream",
     "text": [
      "1\n",
      "2\n",
      "3\n",
      "4\n",
      "5\n",
      "6\n",
      "7\n",
      "8\n",
      "9\n",
      "10\n"
     ]
    }
   ],
   "source": [
    "for i in range (1,11):\n",
    "\n",
    "    print(i)"
   ]
  },
  {
   "cell_type": "code",
   "execution_count": 25,
   "id": "0243a201-1a9d-497e-b0ed-daba182eac09",
   "metadata": {},
   "outputs": [
    {
     "name": "stdout",
     "output_type": "stream",
     "text": [
      "2\n",
      "4\n",
      "6\n",
      "8\n",
      "10\n",
      "12\n",
      "14\n",
      "16\n",
      "18\n",
      "20\n"
     ]
    }
   ],
   "source": [
    "for i in range(1,11):\n",
    "\n",
    "    print(2*i)"
   ]
  },
  {
   "cell_type": "code",
   "execution_count": 26,
   "id": "f75b978d-c4db-4b05-a546-6a65451375f3",
   "metadata": {},
   "outputs": [
    {
     "name": "stdout",
     "output_type": "stream",
     "text": [
      "10\n",
      "9\n",
      "8\n",
      "7\n",
      "6\n",
      "5\n",
      "4\n",
      "3\n",
      "2\n",
      "1\n"
     ]
    }
   ],
   "source": [
    "for i in range(10,0,-1):\n",
    "\n",
    "    print(i)"
   ]
  },
  {
   "cell_type": "code",
   "execution_count": 30,
   "id": "de7e04c4-8d7f-447b-877f-9c67dab6ec30",
   "metadata": {},
   "outputs": [
    {
     "name": "stdout",
     "output_type": "stream",
     "text": [
      "1\n",
      "3\n",
      "5\n",
      "7\n",
      "9\n",
      "11\n",
      "13\n",
      "15\n",
      "17\n",
      "19\n"
     ]
    }
   ],
   "source": [
    "for i in range(1,21):\n",
    "\n",
    "    if i%2!=0:\n",
    "        print(i)\n",
    "        \n",
    "\n"
   ]
  },
  {
   "cell_type": "code",
   "execution_count": 29,
   "id": "ea3d8487-4a61-4b97-bcf2-eb3bb8f3d705",
   "metadata": {},
   "outputs": [
    {
     "name": "stdout",
     "output_type": "stream",
     "text": [
      "range(1, 10)\n"
     ]
    }
   ],
   "source": [
    "print(range(1,10))"
   ]
  },
  {
   "cell_type": "code",
   "execution_count": 31,
   "id": "58a45134-50d8-499a-8dac-e8351beec836",
   "metadata": {},
   "outputs": [
    {
     "name": "stdout",
     "output_type": "stream",
     "text": [
      "0\n",
      "1\n",
      "2\n"
     ]
    }
   ],
   "source": [
    "for i in range(3):\n",
    "    print(i)"
   ]
  },
  {
   "cell_type": "code",
   "execution_count": 32,
   "id": "d694d1ef-a50c-4c83-b8b7-80efb787d909",
   "metadata": {},
   "outputs": [],
   "source": [
    "fruits =['apple','banana','cherry','mango']"
   ]
  },
  {
   "cell_type": "code",
   "execution_count": 33,
   "id": "6924bb30-d326-4150-840a-c3ce2ea43386",
   "metadata": {},
   "outputs": [
    {
     "name": "stdout",
     "output_type": "stream",
     "text": [
      "['apple', 'banana', 'cherry', 'mango']\n"
     ]
    }
   ],
   "source": [
    "print(fruits)"
   ]
  },
  {
   "cell_type": "code",
   "execution_count": 35,
   "id": "07467a00-ee37-47c5-8c9f-568a2774d8e5",
   "metadata": {},
   "outputs": [
    {
     "name": "stdout",
     "output_type": "stream",
     "text": [
      "APPLE\n",
      "BANANA\n",
      "CHERRY\n",
      "MANGO\n"
     ]
    }
   ],
   "source": [
    "for i in fruits:\n",
    "    print(i.upper())"
   ]
  },
  {
   "cell_type": "code",
   "execution_count": 36,
   "id": "54a8377f-21bd-46b3-8898-7ee32d4a47a6",
   "metadata": {},
   "outputs": [],
   "source": [
    "fruits =['apple','banana','cherry','mango','apple','orange']\n"
   ]
  },
  {
   "cell_type": "code",
   "execution_count": 38,
   "id": "0abbaefa-8118-4518-8238-08661cd9e45c",
   "metadata": {},
   "outputs": [],
   "source": [
    "filtered_fruits =[]\n",
    "\n",
    "for i in fruits:\n",
    "\n",
    "    if i not in filtered_fruits:\n",
    "        filtered_fruits.append(i)"
   ]
  },
  {
   "cell_type": "code",
   "execution_count": 40,
   "id": "f7ee85ef-30c0-45db-bf1d-783b7ed43a57",
   "metadata": {},
   "outputs": [
    {
     "data": {
      "text/plain": [
       "['apple', 'banana', 'cherry', 'mango', 'orange']"
      ]
     },
     "execution_count": 40,
     "metadata": {},
     "output_type": "execute_result"
    }
   ],
   "source": [
    "filtered_fruits"
   ]
  },
  {
   "cell_type": "code",
   "execution_count": 41,
   "id": "a5b94a38-0a2e-4058-a86f-3288ed838364",
   "metadata": {},
   "outputs": [
    {
     "data": {
      "text/plain": [
       "['apple', 'banana', 'cherry', 'mango', 'apple', 'orange']"
      ]
     },
     "execution_count": 41,
     "metadata": {},
     "output_type": "execute_result"
    }
   ],
   "source": [
    "fruits"
   ]
  },
  {
   "cell_type": "code",
   "execution_count": 42,
   "id": "7f66e491-22ae-427f-ab4c-2d4ef627f47a",
   "metadata": {},
   "outputs": [],
   "source": [
    "filtered_fruits =[]\n",
    "\n",
    "for i in fruits:\n",
    "    filtered_fruits = []\n",
    "\n",
    "    if i not in filtered_fruits:\n",
    "        filtered_fruits.append(i)"
   ]
  },
  {
   "cell_type": "code",
   "execution_count": 45,
   "id": "11909a87-5423-4f8d-93fe-246273b94b23",
   "metadata": {},
   "outputs": [
    {
     "data": {
      "text/plain": [
       "['orange']"
      ]
     },
     "execution_count": 45,
     "metadata": {},
     "output_type": "execute_result"
    }
   ],
   "source": [
    "filtered_fruits"
   ]
  },
  {
   "cell_type": "code",
   "execution_count": 46,
   "id": "ec645cef-4ad5-42d7-832d-64d8d6b03863",
   "metadata": {},
   "outputs": [
    {
     "name": "stdin",
     "output_type": "stream",
     "text": [
      "Enter name:  simran\n",
      "Enter name:  rahul\n",
      "Enter name:  ranveer\n"
     ]
    }
   ],
   "source": [
    "guests =[]\n",
    "\n",
    "for i in range(3):\n",
    "    name = input('Enter name: ')\n",
    "    guests.append(name)"
   ]
  },
  {
   "cell_type": "code",
   "execution_count": 47,
   "id": "93d8e1fd-70cb-430e-9ad2-32afcf33ca2c",
   "metadata": {},
   "outputs": [
    {
     "data": {
      "text/plain": [
       "['simran', 'rahul', 'ranveer']"
      ]
     },
     "execution_count": 47,
     "metadata": {},
     "output_type": "execute_result"
    }
   ],
   "source": [
    "guests"
   ]
  },
  {
   "cell_type": "code",
   "execution_count": 52,
   "id": "e3ba8b81-055c-427b-a122-87968d53946b",
   "metadata": {},
   "outputs": [],
   "source": [
    "fruits =['apple','banana','apple','cherry','mango',\n",
    "        'banana','apple','orange','banana','kiwi']"
   ]
  },
  {
   "cell_type": "code",
   "execution_count": 53,
   "id": "c8d7d965-3170-451f-85c2-0a2d42682830",
   "metadata": {},
   "outputs": [
    {
     "name": "stdout",
     "output_type": "stream",
     "text": [
      "apple: 3\n",
      "banana: 3\n",
      "apple: 3\n",
      "cherry: 1\n",
      "mango: 1\n",
      "banana: 3\n",
      "apple: 3\n",
      "orange: 1\n",
      "banana: 3\n",
      "kiwi: 1\n"
     ]
    }
   ],
   "source": [
    "unique_fruits = []\n",
    "\n",
    "for fruit in fruits:\n",
    "    print(f'{fruit}: {fruits.count(fruit)}')\n",
    "    if fruit not in unique_fruits:\n",
    "        unique_fruits.append(fruit)"
   ]
  },
  {
   "cell_type": "code",
   "execution_count": 54,
   "id": "92697034-2a6b-443f-9d96-c42842bd10ac",
   "metadata": {},
   "outputs": [
    {
     "data": {
      "text/plain": [
       "['apple', 'banana', 'cherry', 'mango', 'orange', 'kiwi']"
      ]
     },
     "execution_count": 54,
     "metadata": {},
     "output_type": "execute_result"
    }
   ],
   "source": [
    "unique_fruits"
   ]
  },
  {
   "cell_type": "code",
   "execution_count": 56,
   "id": "98ae9229-4995-462c-b7e1-98990b8e37a1",
   "metadata": {},
   "outputs": [],
   "source": [
    "fruit_dict ={'A':'apple','B':'banana','C': 'cherry'}"
   ]
  },
  {
   "cell_type": "code",
   "execution_count": 58,
   "id": "4dd9c530-9bdb-4a5d-94e5-a321c226d179",
   "metadata": {},
   "outputs": [],
   "source": [
    "fruit_dict['D'] ='dragonfruit'"
   ]
  },
  {
   "cell_type": "code",
   "execution_count": 59,
   "id": "a2911905-b5a6-4a6e-b86b-b057731cf7e4",
   "metadata": {},
   "outputs": [
    {
     "data": {
      "text/plain": [
       "{'A': 'apple', 'B': 'banana', 'C': 'cherry', 'D': 'dragonfruit'}"
      ]
     },
     "execution_count": 59,
     "metadata": {},
     "output_type": "execute_result"
    }
   ],
   "source": [
    "fruit_dict"
   ]
  },
  {
   "cell_type": "code",
   "execution_count": 68,
   "id": "0786daaf-abed-4575-b708-d26300dae7d3",
   "metadata": {},
   "outputs": [],
   "source": [
    "fruits =['apple','banana','apple','cherry','mango',\n",
    "        'banana','apple','orange','banana','kiwi']"
   ]
  },
  {
   "cell_type": "code",
   "execution_count": 71,
   "id": "4bb28253-6c0a-488e-bcf2-ed5149900039",
   "metadata": {},
   "outputs": [],
   "source": [
    "unique_fruits = []\n",
    "fruit_count ={}\n",
    "\n",
    "for fruit in fruits:\n",
    "    fruit_count[fruit] = fruits.count(fruit)\n",
    "    if fruit not in unique_fruits:\n",
    "        unique_fruits.append(fruit)"
   ]
  },
  {
   "cell_type": "code",
   "execution_count": 73,
   "id": "913116a7-4c17-4ba8-830c-a3987f0526cf",
   "metadata": {},
   "outputs": [
    {
     "data": {
      "text/plain": [
       "['apple', 'banana', 'cherry', 'mango', 'orange', 'kiwi']"
      ]
     },
     "execution_count": 73,
     "metadata": {},
     "output_type": "execute_result"
    }
   ],
   "source": [
    "unique_fruits"
   ]
  },
  {
   "cell_type": "code",
   "execution_count": 74,
   "id": "817fcb37-2727-4ada-bc74-f1b0daa3e140",
   "metadata": {},
   "outputs": [
    {
     "data": {
      "text/plain": [
       "{'apple': 3, 'banana': 3, 'cherry': 1, 'mango': 1, 'orange': 1, 'kiwi': 1}"
      ]
     },
     "execution_count": 74,
     "metadata": {},
     "output_type": "execute_result"
    }
   ],
   "source": [
    "fruit_count"
   ]
  },
  {
   "cell_type": "code",
   "execution_count": 75,
   "id": "d354e820-9091-4354-91a0-be037bd455b6",
   "metadata": {},
   "outputs": [
    {
     "name": "stdin",
     "output_type": "stream",
     "text": [
      "enter name:  simran\n",
      "enter name:  rahul\n",
      "enter name:  arpit\n"
     ]
    }
   ],
   "source": [
    "\n",
    "\n",
    "for i in range(3): #0,1,2, the variable i is a throw-away variable\n",
    "    guests =[]\n",
    "    name = input('enter name: ')\n",
    "    guests.append(name)"
   ]
  },
  {
   "cell_type": "code",
   "execution_count": 76,
   "id": "122c2c51-6bee-4d36-b427-b22469774852",
   "metadata": {},
   "outputs": [
    {
     "data": {
      "text/plain": [
       "['arpit']"
      ]
     },
     "execution_count": 76,
     "metadata": {},
     "output_type": "execute_result"
    }
   ],
   "source": [
    "guests"
   ]
  },
  {
   "cell_type": "code",
   "execution_count": null,
   "id": "1cf40bd2-5d7a-44d2-b787-5503a32d2447",
   "metadata": {},
   "outputs": [],
   "source": []
  }
 ],
 "metadata": {
  "kernelspec": {
   "display_name": "Python 3 (ipykernel)",
   "language": "python",
   "name": "python3"
  },
  "language_info": {
   "codemirror_mode": {
    "name": "ipython",
    "version": 3
   },
   "file_extension": ".py",
   "mimetype": "text/x-python",
   "name": "python",
   "nbconvert_exporter": "python",
   "pygments_lexer": "ipython3",
   "version": "3.12.4"
  }
 },
 "nbformat": 4,
 "nbformat_minor": 5
}
