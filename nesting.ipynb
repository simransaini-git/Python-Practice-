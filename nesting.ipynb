{
 "cells": [
  {
   "cell_type": "markdown",
   "id": "bedc3335-6ca9-40d1-b458-303deac65827",
   "metadata": {},
   "source": [
    "# Nesting"
   ]
  },
  {
   "cell_type": "code",
   "execution_count": 1,
   "id": "a571213d-510c-4494-b001-2bb0432011f1",
   "metadata": {},
   "outputs": [],
   "source": [
    "# list within a list\n",
    "# list with in a dictionary\n",
    "# dictionary within a list\n",
    "# dictionary within a dictionary --> json"
   ]
  },
  {
   "cell_type": "code",
   "execution_count": 2,
   "id": "17c25f71-6745-4761-8920-7e81bbd76a6f",
   "metadata": {},
   "outputs": [],
   "source": [
    "fruits =['apple','banana','cherry'] # strings with in a list "
   ]
  },
  {
   "cell_type": "code",
   "execution_count": 3,
   "id": "9bffdcb5-96ee-46cf-99c3-0b1cb9e261a2",
   "metadata": {},
   "outputs": [
    {
     "data": {
      "text/plain": [
       "3"
      ]
     },
     "execution_count": 3,
     "metadata": {},
     "output_type": "execute_result"
    }
   ],
   "source": [
    "len(fruits)"
   ]
  },
  {
   "cell_type": "code",
   "execution_count": 4,
   "id": "92a5bb35-371e-444c-abe4-d89587a281ac",
   "metadata": {},
   "outputs": [],
   "source": [
    "fruits =[['apple','banana']]"
   ]
  },
  {
   "cell_type": "code",
   "execution_count": 5,
   "id": "5b595689-84da-416e-ad3b-fdc5cc381d39",
   "metadata": {},
   "outputs": [
    {
     "data": {
      "text/plain": [
       "1"
      ]
     },
     "execution_count": 5,
     "metadata": {},
     "output_type": "execute_result"
    }
   ],
   "source": [
    "len(fruits)"
   ]
  },
  {
   "cell_type": "code",
   "execution_count": 6,
   "id": "a8154ae6-1ef7-4376-8258-35a1c7985b5a",
   "metadata": {},
   "outputs": [],
   "source": [
    "fruits =[['apple','banana'],['cherry','mango']]"
   ]
  },
  {
   "cell_type": "code",
   "execution_count": 7,
   "id": "add8eb28-527d-4191-9c8e-3e03c1438baa",
   "metadata": {},
   "outputs": [
    {
     "data": {
      "text/plain": [
       "2"
      ]
     },
     "execution_count": 7,
     "metadata": {},
     "output_type": "execute_result"
    }
   ],
   "source": [
    "len(fruits)"
   ]
  },
  {
   "cell_type": "code",
   "execution_count": 8,
   "id": "53095b46-f97d-42f4-b7cf-523627a23dc6",
   "metadata": {},
   "outputs": [],
   "source": [
    "fruits =['apple','banana']\n"
   ]
  },
  {
   "cell_type": "code",
   "execution_count": 9,
   "id": "5ff91e9d-fdd3-4c0d-9c65-dfa7ccec3367",
   "metadata": {},
   "outputs": [
    {
     "data": {
      "text/plain": [
       "'banana'"
      ]
     },
     "execution_count": 9,
     "metadata": {},
     "output_type": "execute_result"
    }
   ],
   "source": [
    "fruits[1]"
   ]
  },
  {
   "cell_type": "code",
   "execution_count": 10,
   "id": "d6de5a1c-129b-4a30-b670-cdef3888a72c",
   "metadata": {},
   "outputs": [],
   "source": [
    "fruits =[['apple','banana'],['cherry','mango']]\n"
   ]
  },
  {
   "cell_type": "code",
   "execution_count": 11,
   "id": "188e5aeb-19e8-483c-a9c6-2d92dafc682f",
   "metadata": {},
   "outputs": [
    {
     "data": {
      "text/plain": [
       "['apple', 'banana']"
      ]
     },
     "execution_count": 11,
     "metadata": {},
     "output_type": "execute_result"
    }
   ],
   "source": [
    "fruits[0]"
   ]
  },
  {
   "cell_type": "code",
   "execution_count": 12,
   "id": "a9ce9a1a-4533-4b12-96cc-413cd85bfee4",
   "metadata": {},
   "outputs": [
    {
     "data": {
      "text/plain": [
       "list"
      ]
     },
     "execution_count": 12,
     "metadata": {},
     "output_type": "execute_result"
    }
   ],
   "source": [
    "type(fruits[0])"
   ]
  },
  {
   "cell_type": "code",
   "execution_count": 13,
   "id": "22662b8f-cc11-47db-a96c-8cdeacdcbde5",
   "metadata": {},
   "outputs": [
    {
     "data": {
      "text/plain": [
       "'apple'"
      ]
     },
     "execution_count": 13,
     "metadata": {},
     "output_type": "execute_result"
    }
   ],
   "source": [
    "fruits[0][0]"
   ]
  },
  {
   "cell_type": "code",
   "execution_count": 14,
   "id": "3918f701-e0c8-4049-a7a3-356f95f4a33e",
   "metadata": {},
   "outputs": [
    {
     "data": {
      "text/plain": [
       "'banana'"
      ]
     },
     "execution_count": 14,
     "metadata": {},
     "output_type": "execute_result"
    }
   ],
   "source": [
    "fruits[0][1]"
   ]
  },
  {
   "cell_type": "code",
   "execution_count": 15,
   "id": "5cda90ab-c0dd-4038-afbc-04903de29408",
   "metadata": {},
   "outputs": [
    {
     "name": "stdout",
     "output_type": "stream",
     "text": [
      "[['apple', 'banana'], ['cherry', 'mango']]\n"
     ]
    }
   ],
   "source": [
    "print(fruits)"
   ]
  },
  {
   "cell_type": "code",
   "execution_count": 16,
   "id": "da66996f-0405-4922-8ed6-dfc12a782fe4",
   "metadata": {},
   "outputs": [
    {
     "data": {
      "text/plain": [
       "'cherry'"
      ]
     },
     "execution_count": 16,
     "metadata": {},
     "output_type": "execute_result"
    }
   ],
   "source": [
    "fruits[1][0]"
   ]
  },
  {
   "cell_type": "code",
   "execution_count": 18,
   "id": "d246c74f-d746-4e31-a0e1-f9005e910fea",
   "metadata": {},
   "outputs": [],
   "source": [
    "fruits =[['apple','banana'],['cherry','mango'],['pineapple','orange','guava']]\n"
   ]
  },
  {
   "cell_type": "code",
   "execution_count": 19,
   "id": "c1015af6-4f18-4eec-bdc9-725d2ae4d901",
   "metadata": {},
   "outputs": [
    {
     "data": {
      "text/plain": [
       "['pineapple', 'orange', 'guava']"
      ]
     },
     "execution_count": 19,
     "metadata": {},
     "output_type": "execute_result"
    }
   ],
   "source": [
    "fruits[-1]"
   ]
  },
  {
   "cell_type": "code",
   "execution_count": 20,
   "id": "246a49d2-da14-4cda-a318-7d56bfdd5a9c",
   "metadata": {},
   "outputs": [
    {
     "data": {
      "text/plain": [
       "['pineapple', 'orange', 'guava']"
      ]
     },
     "execution_count": 20,
     "metadata": {},
     "output_type": "execute_result"
    }
   ],
   "source": [
    "fruits[2]"
   ]
  },
  {
   "cell_type": "code",
   "execution_count": 21,
   "id": "511d5290-7a6f-4f2d-9f8e-50efbebc6e6b",
   "metadata": {},
   "outputs": [
    {
     "data": {
      "text/plain": [
       "'orange'"
      ]
     },
     "execution_count": 21,
     "metadata": {},
     "output_type": "execute_result"
    }
   ],
   "source": [
    "fruits[2][1]"
   ]
  },
  {
   "cell_type": "code",
   "execution_count": 23,
   "id": "921ad955-d6f8-411c-8e77-ed525225e654",
   "metadata": {},
   "outputs": [
    {
     "data": {
      "text/plain": [
       "'orange'"
      ]
     },
     "execution_count": 23,
     "metadata": {},
     "output_type": "execute_result"
    }
   ],
   "source": [
    "fruits[-1][-2]"
   ]
  },
  {
   "cell_type": "code",
   "execution_count": 24,
   "id": "54943d8c-2ba5-42bc-936e-72d0b86eee91",
   "metadata": {},
   "outputs": [
    {
     "data": {
      "text/plain": [
       "'o'"
      ]
     },
     "execution_count": 24,
     "metadata": {},
     "output_type": "execute_result"
    }
   ],
   "source": [
    "fruits[2][1][0]"
   ]
  },
  {
   "cell_type": "code",
   "execution_count": 25,
   "id": "896a4683-1851-4e35-9bf4-2b09aa1a37dc",
   "metadata": {},
   "outputs": [],
   "source": [
    "fruits =[['apple','banana'],['cherry','mango'],['pineapple','orange','guava']]\n"
   ]
  },
  {
   "cell_type": "code",
   "execution_count": 26,
   "id": "6b84ea2a-9e3b-42c1-8478-b769b1d17a34",
   "metadata": {},
   "outputs": [
    {
     "data": {
      "text/plain": [
       "['pineapple', 'orange', 'guava']"
      ]
     },
     "execution_count": 26,
     "metadata": {},
     "output_type": "execute_result"
    }
   ],
   "source": [
    "fruits[2]"
   ]
  },
  {
   "cell_type": "code",
   "execution_count": 27,
   "id": "14b89d37-bd28-4e82-aa0f-0b54a54964e2",
   "metadata": {},
   "outputs": [],
   "source": [
    "fruits[2].remove('pineapple')"
   ]
  },
  {
   "cell_type": "code",
   "execution_count": 28,
   "id": "ca43e21f-aa00-4c63-b2bd-aa69088ea27b",
   "metadata": {},
   "outputs": [
    {
     "data": {
      "text/plain": [
       "[['apple', 'banana'], ['cherry', 'mango'], ['orange', 'guava']]"
      ]
     },
     "execution_count": 28,
     "metadata": {},
     "output_type": "execute_result"
    }
   ],
   "source": [
    "fruits"
   ]
  },
  {
   "cell_type": "code",
   "execution_count": 29,
   "id": "d40221ca-8dd0-4515-8b6c-93980f137b0d",
   "metadata": {},
   "outputs": [
    {
     "data": {
      "text/plain": [
       "['apple', 'banana']"
      ]
     },
     "execution_count": 29,
     "metadata": {},
     "output_type": "execute_result"
    }
   ],
   "source": [
    "fruits[0]"
   ]
  },
  {
   "cell_type": "code",
   "execution_count": 30,
   "id": "0712aefa-4899-44de-91be-09a02fd86e1d",
   "metadata": {},
   "outputs": [],
   "source": [
    "fruits[0].append ('cherry')"
   ]
  },
  {
   "cell_type": "code",
   "execution_count": 31,
   "id": "fc072cd2-a078-4b62-9c37-e63831a0b75a",
   "metadata": {},
   "outputs": [
    {
     "data": {
      "text/plain": [
       "[['apple', 'banana', 'cherry'], ['cherry', 'mango'], ['orange', 'guava']]"
      ]
     },
     "execution_count": 31,
     "metadata": {},
     "output_type": "execute_result"
    }
   ],
   "source": [
    "fruits"
   ]
  },
  {
   "cell_type": "code",
   "execution_count": 33,
   "id": "5846be88-f617-49e9-9aa0-2d41eba79457",
   "metadata": {},
   "outputs": [
    {
     "data": {
      "text/plain": [
       "'ORANGE'"
      ]
     },
     "execution_count": 33,
     "metadata": {},
     "output_type": "execute_result"
    }
   ],
   "source": [
    "fruits[-1][-2].upper()"
   ]
  },
  {
   "cell_type": "code",
   "execution_count": 34,
   "id": "74dfecc3-d282-4446-bedc-186b4ddf83cb",
   "metadata": {},
   "outputs": [],
   "source": [
    "record ={'name':['Rahul','Nakul','Amrit'],'course':['DA','ML','DS']}"
   ]
  },
  {
   "cell_type": "code",
   "execution_count": 37,
   "id": "b725f390-333e-41d7-849d-a3ebe68bb804",
   "metadata": {},
   "outputs": [
    {
     "data": {
      "text/plain": [
       "dict"
      ]
     },
     "execution_count": 37,
     "metadata": {},
     "output_type": "execute_result"
    }
   ],
   "source": [
    "type(record)"
   ]
  },
  {
   "cell_type": "code",
   "execution_count": 36,
   "id": "62b48a77-ae0b-49a4-9d5a-e3eae081d2c0",
   "metadata": {},
   "outputs": [
    {
     "data": {
      "text/plain": [
       "['Rahul', 'Nakul', 'Amrit']"
      ]
     },
     "execution_count": 36,
     "metadata": {},
     "output_type": "execute_result"
    }
   ],
   "source": [
    "record['name']"
   ]
  },
  {
   "cell_type": "code",
   "execution_count": 38,
   "id": "64a4e1c6-d424-463f-948c-fcd801137455",
   "metadata": {},
   "outputs": [
    {
     "data": {
      "text/plain": [
       "list"
      ]
     },
     "execution_count": 38,
     "metadata": {},
     "output_type": "execute_result"
    }
   ],
   "source": [
    "type(record['name'])"
   ]
  },
  {
   "cell_type": "code",
   "execution_count": 40,
   "id": "2a9e9964-4d5d-4234-b778-bbd4732cc47b",
   "metadata": {},
   "outputs": [
    {
     "data": {
      "text/plain": [
       "'Rahul'"
      ]
     },
     "execution_count": 40,
     "metadata": {},
     "output_type": "execute_result"
    }
   ],
   "source": [
    "record['name'][0]"
   ]
  },
  {
   "cell_type": "code",
   "execution_count": 41,
   "id": "42fc383b-efd0-481c-9e4a-0f6255f46b59",
   "metadata": {},
   "outputs": [
    {
     "data": {
      "text/plain": [
       "{'name': ['Rahul', 'Nakul', 'Amrit'], 'course': ['DA', 'ML', 'DS']}"
      ]
     },
     "execution_count": 41,
     "metadata": {},
     "output_type": "execute_result"
    }
   ],
   "source": [
    "record"
   ]
  },
  {
   "cell_type": "code",
   "execution_count": 43,
   "id": "9da67cdc-82f3-49d9-b5c1-93acd199fb58",
   "metadata": {},
   "outputs": [
    {
     "data": {
      "text/plain": [
       "'ML'"
      ]
     },
     "execution_count": 43,
     "metadata": {},
     "output_type": "execute_result"
    }
   ],
   "source": [
    "record['course'][-2]"
   ]
  },
  {
   "cell_type": "code",
   "execution_count": 50,
   "id": "1a123c91-cc3d-4eeb-bc09-d84797121585",
   "metadata": {},
   "outputs": [],
   "source": [
    "# barcode,product info \n",
    "#products ={111:['chips','20-March',20]\n",
    " #           222:['cake','10-Feb-2024','10-Jan-2025',50,10025]}\n",
    "\n",
    "product ={111:{'name':'lays blue','mfg':'20-March','price':20},\n",
    "          222:{'name':'bingo','mfg':'20-March','exp':'25-April','seller_id': 5552,'price': 20}}\n"
   ]
  },
  {
   "cell_type": "code",
   "execution_count": 54,
   "id": "fd03a09f-899f-424b-a00d-56561fb569ac",
   "metadata": {},
   "outputs": [],
   "source": [
    "product[111]['price'] = 50"
   ]
  },
  {
   "cell_type": "code",
   "execution_count": 55,
   "id": "90330346-4e3c-4090-951d-13135a616f8e",
   "metadata": {},
   "outputs": [
    {
     "data": {
      "text/plain": [
       "{'name': 'lays blue', 'mfg': '20-March', 'price': 50}"
      ]
     },
     "execution_count": 55,
     "metadata": {},
     "output_type": "execute_result"
    }
   ],
   "source": [
    "product[111]"
   ]
  },
  {
   "cell_type": "code",
   "execution_count": 56,
   "id": "c4ddf697-a0ee-48e3-ade1-ac4161f68b60",
   "metadata": {},
   "outputs": [
    {
     "data": {
      "text/plain": [
       "{111: {'name': 'lays blue', 'mfg': '20-March', 'price': 50},\n",
       " 222: {'name': 'bingo',\n",
       "  'mfg': '20-March',\n",
       "  'exp': '25-April',\n",
       "  'seller_id': 5552,\n",
       "  'price': 20}}"
      ]
     },
     "execution_count": 56,
     "metadata": {},
     "output_type": "execute_result"
    }
   ],
   "source": [
    "product"
   ]
  },
  {
   "cell_type": "code",
   "execution_count": 57,
   "id": "35be8d1d-07f1-4a86-8f5f-db22fb8e678f",
   "metadata": {},
   "outputs": [
    {
     "data": {
      "text/plain": [
       "{'name': ['Rahul', 'Nakul', 'Amrit'], 'course': ['DA', 'ML', 'DS']}"
      ]
     },
     "execution_count": 57,
     "metadata": {},
     "output_type": "execute_result"
    }
   ],
   "source": [
    "record"
   ]
  },
  {
   "cell_type": "code",
   "execution_count": 60,
   "id": "61b54086-9db9-485c-a917-e7cc24c0289e",
   "metadata": {},
   "outputs": [],
   "source": [
    "record['course'][-1] ='ML'"
   ]
  },
  {
   "cell_type": "code",
   "execution_count": 61,
   "id": "9c454a87-2de3-4c1c-844a-0cfe41521970",
   "metadata": {},
   "outputs": [
    {
     "data": {
      "text/plain": [
       "{'name': ['Rahul', 'Nakul', 'Amrit'], 'course': ['DA', 'ML', 'ML']}"
      ]
     },
     "execution_count": 61,
     "metadata": {},
     "output_type": "execute_result"
    }
   ],
   "source": [
    "record"
   ]
  },
  {
   "cell_type": "code",
   "execution_count": 68,
   "id": "01412d5a-73d8-4f23-b497-a3b7331403c9",
   "metadata": {},
   "outputs": [],
   "source": [
    "info =[{'name':['Rahul','Nakul','Amrit'],'course':['DA','ML','DS']},\n",
    "      {111: {'name': 'lays blue', 'mfg': '20-March', 'price': 50}}]\n"
   ]
  },
  {
   "cell_type": "code",
   "execution_count": 69,
   "id": "d49abee5-fbb5-42b0-a75c-fab828c4ddf6",
   "metadata": {},
   "outputs": [
    {
     "data": {
      "text/plain": [
       "2"
      ]
     },
     "execution_count": 69,
     "metadata": {},
     "output_type": "execute_result"
    }
   ],
   "source": [
    "len(info)"
   ]
  },
  {
   "cell_type": "code",
   "execution_count": 72,
   "id": "a6b40dda-0a22-481f-a8a8-6dfaec3ad3c1",
   "metadata": {},
   "outputs": [
    {
     "data": {
      "text/plain": [
       "50"
      ]
     },
     "execution_count": 72,
     "metadata": {},
     "output_type": "execute_result"
    }
   ],
   "source": [
    "info[1][111]['price'] "
   ]
  },
  {
   "cell_type": "code",
   "execution_count": 76,
   "id": "58460e77-e4ed-492a-a37f-57b63185ff6e",
   "metadata": {},
   "outputs": [
    {
     "data": {
      "text/plain": [
       "dict"
      ]
     },
     "execution_count": 76,
     "metadata": {},
     "output_type": "execute_result"
    }
   ],
   "source": [
    "type(info[1])"
   ]
  },
  {
   "cell_type": "code",
   "execution_count": null,
   "id": "8d065bf0-2319-4409-88b4-d5d212ade4ae",
   "metadata": {},
   "outputs": [],
   "source": []
  }
 ],
 "metadata": {
  "kernelspec": {
   "display_name": "Python 3 (ipykernel)",
   "language": "python",
   "name": "python3"
  },
  "language_info": {
   "codemirror_mode": {
    "name": "ipython",
    "version": 3
   },
   "file_extension": ".py",
   "mimetype": "text/x-python",
   "name": "python",
   "nbconvert_exporter": "python",
   "pygments_lexer": "ipython3",
   "version": "3.12.4"
  }
 },
 "nbformat": 4,
 "nbformat_minor": 5
}
