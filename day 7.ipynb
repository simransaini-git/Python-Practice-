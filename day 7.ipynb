{
 "cells": [
  {
   "cell_type": "markdown",
   "id": "0f55b0f9-6375-4a6b-bac1-274a8a9016ef",
   "metadata": {},
   "source": [
    "# day 7"
   ]
  },
  {
   "cell_type": "markdown",
   "id": "342e578b-a7a4-48cc-82be-2ba6c488bfb3",
   "metadata": {},
   "source": [
    "# strings in python"
   ]
  },
  {
   "cell_type": "markdown",
   "id": "c35e913c-e6d9-4051-a07e-bf882390d2ed",
   "metadata": {},
   "source": [
    "# creating strings in python"
   ]
  },
  {
   "cell_type": "code",
   "execution_count": 2,
   "id": "cbf54a5a-5aae-4e90-a26d-73bdc252b04d",
   "metadata": {},
   "outputs": [
    {
     "name": "stdout",
     "output_type": "stream",
     "text": [
      "hello\n"
     ]
    }
   ],
   "source": [
    "a ='hello'\n",
    "print(a)"
   ]
  },
  {
   "cell_type": "code",
   "execution_count": 3,
   "id": "0c70d028-8131-417a-abe1-f10be00293ae",
   "metadata": {},
   "outputs": [
    {
     "name": "stdout",
     "output_type": "stream",
     "text": [
      "we are learning python and this is our day 7\n",
      "<class 'str'>\n"
     ]
    }
   ],
   "source": [
    "b =\"we are learning python and this is our day 7\"\n",
    "print(b)\n",
    "print(type(b))\n"
   ]
  },
  {
   "cell_type": "markdown",
   "id": "4b484393-76b6-40af-951c-e8e72d268b8c",
   "metadata": {},
   "source": [
    "# multiline string"
   ]
  },
  {
   "cell_type": "code",
   "execution_count": null,
   "id": "30b96ca1-6fbd-40db-b9e9-d35042fc5337",
   "metadata": {},
   "outputs": [],
   "source": []
  },
  {
   "cell_type": "code",
   "execution_count": 25,
   "id": "a2ef01a2-5f6f-4154-9da3-89fb2856efdb",
   "metadata": {},
   "outputs": [
    {
     "name": "stdout",
     "output_type": "stream",
     "text": [
      " By 55,000 years ago, the first modern humans, or Homo sapiens,\n",
      "had arrived on the Indian subcontinent from Africa, where they had\n",
      "earlier evolved.[28][29][30] The earliest known modern human remains\n",
      "in South Asia date to about 30,000 years ago.[28] After 6500 BCE, evidence\n",
      "for domestication of food crops and animals, construction of permanent structures\n",
      ", and storage of agricultural surplus appeared in Mehrgarh and other sites\n",
      "in Balochistan, Pakistan.[84] These gradually developed into the Indus Valley \n",
      "Civilisation,[85][84] the first urban culture in South Asia,[86] which flourished \n",
      "during 2500–1900 BCE in Pakistan and western India.[87] Centred around\n",
      "cities such as Mohenjo-daro, Harappa, Dholavira, and Kalibangan, and relying on varied \n",
      "forms of subsistence, the civilisation engaged robustly\n",
      "in crafts production and wide-ranging trade.\n"
     ]
    }
   ],
   "source": [
    "\n",
    "s =\"\"\" By 55,000 years ago, the first modern humans, or Homo sapiens,\n",
    "had arrived on the Indian subcontinent from Africa, where they had\n",
    "earlier evolved.[28][29][30] The earliest known modern human remains\n",
    "in South Asia date to about 30,000 years ago.[28] After 6500 BCE, evidence\n",
    "for domestication of food crops and animals, construction of permanent structures\n",
    ", and storage of agricultural surplus appeared in Mehrgarh and other sites\n",
    "in Balochistan, Pakistan.[84] These gradually developed into the Indus Valley \n",
    "Civilisation,[85][84] the first urban culture in South Asia,[86] which flourished \n",
    "during 2500–1900 BCE in Pakistan and western India.[87] Centred around\n",
    "cities such as Mohenjo-daro, Harappa, Dholavira, and Kalibangan, and relying on varied \n",
    "forms of subsistence, the civilisation engaged robustly\n",
    "in crafts production and wide-ranging trade.\"\"\"\n",
    "print(s)"
   ]
  },
  {
   "cell_type": "code",
   "execution_count": 26,
   "id": "203a2172-7c6c-4964-9b05-84a1b0600389",
   "metadata": {},
   "outputs": [
    {
     "name": "stdout",
     "output_type": "stream",
     "text": [
      "853\n"
     ]
    }
   ],
   "source": [
    "print(len(s))"
   ]
  },
  {
   "cell_type": "markdown",
   "id": "f12106ce-95bb-4365-b78c-a3ab88b9e64e",
   "metadata": {},
   "source": [
    "# indexing of strings"
   ]
  },
  {
   "cell_type": "code",
   "execution_count": 9,
   "id": "25aad8d0-7a8e-4aba-9db4-76cd0ef1b14e",
   "metadata": {},
   "outputs": [
    {
     "name": "stdout",
     "output_type": "stream",
     "text": [
      "t\n"
     ]
    }
   ],
   "source": [
    "a = \"hello students\"\n",
    "print(a[12])"
   ]
  },
  {
   "cell_type": "code",
   "execution_count": 16,
   "id": "151f51ea-e5f8-4865-b241-d8bb3f435d0c",
   "metadata": {},
   "outputs": [
    {
     "name": "stdout",
     "output_type": "stream",
     "text": [
      "o\n"
     ]
    }
   ],
   "source": [
    "a = \"How your study going on\"\n",
    "print(a[-7])"
   ]
  },
  {
   "cell_type": "markdown",
   "id": "92da644c-b535-40bf-a01a-8793bdeeea7c",
   "metadata": {},
   "source": [
    "# slicing of string"
   ]
  },
  {
   "cell_type": "code",
   "execution_count": 20,
   "id": "5748f465-4edd-4b92-8a6f-012ad1fca510",
   "metadata": {},
   "outputs": [
    {
     "name": "stdout",
     "output_type": "stream",
     "text": [
      "students how\n"
     ]
    }
   ],
   "source": [
    "s = \"hello students how are you ?\"\n",
    "print(s[6:18])"
   ]
  },
  {
   "cell_type": "code",
   "execution_count": 22,
   "id": "2cf4ed3d-9f5f-44f7-b822-d5542ffd9780",
   "metadata": {},
   "outputs": [
    {
     "name": "stdout",
     "output_type": "stream",
     "text": [
      "hlosuet o r o?\n"
     ]
    }
   ],
   "source": [
    "s = \"hello students how are you? \"\n",
    "print(s[::2])"
   ]
  },
  {
   "cell_type": "code",
   "execution_count": 23,
   "id": "cbd522f3-79fd-4552-a05a-6bc993b49fba",
   "metadata": {},
   "outputs": [
    {
     "name": "stdout",
     "output_type": "stream",
     "text": [
      "? uoy era woh stneduts olleh\n"
     ]
    }
   ],
   "source": [
    "s = \"hello students how are you ?\"\n",
    "print(s[::-1])\n"
   ]
  },
  {
   "cell_type": "markdown",
   "id": "99ce4c77-574d-4cb9-b1ec-3a6183288d3e",
   "metadata": {},
   "source": [
    "# finding the length of a string"
   ]
  },
  {
   "cell_type": "code",
   "execution_count": 27,
   "id": "86ce8657-cda3-4872-a011-9f0bc1853899",
   "metadata": {},
   "outputs": [
    {
     "name": "stdout",
     "output_type": "stream",
     "text": [
      "30\n"
     ]
    }
   ],
   "source": [
    "a = \"this is our day 7 python class\"\n",
    "print(len(a))"
   ]
  },
  {
   "cell_type": "code",
   "execution_count": 28,
   "id": "db1d8c2e-d8d4-45d7-b603-8fc8858b9fe0",
   "metadata": {},
   "outputs": [
    {
     "name": "stdout",
     "output_type": "stream",
     "text": [
      "hello world\n",
      "11\n"
     ]
    }
   ],
   "source": [
    "c = \"hello world\"\n",
    "print(c)\n",
    "print(len(c))"
   ]
  },
  {
   "cell_type": "markdown",
   "id": "faf7f119-890b-4651-9fa5-f2fd9714678f",
   "metadata": {},
   "source": [
    "# upper method"
   ]
  },
  {
   "cell_type": "code",
   "execution_count": 30,
   "id": "9bb70596-c6ab-4a2f-8a44-439bcef71308",
   "metadata": {},
   "outputs": [
    {
     "name": "stdout",
     "output_type": "stream",
     "text": [
      "HELLO HOW ARE YOU\n"
     ]
    }
   ],
   "source": [
    "d = \"hello how are you\"\n",
    "print(d.upper())"
   ]
  },
  {
   "cell_type": "code",
   "execution_count": 31,
   "id": "1b131977-11cc-4fce-b396-272df41ffd9c",
   "metadata": {},
   "outputs": [
    {
     "name": "stdout",
     "output_type": "stream",
     "text": [
      "hello i am\n"
     ]
    }
   ],
   "source": [
    "e = \"hello i am\"\n",
    "print(e.lower())"
   ]
  },
  {
   "cell_type": "markdown",
   "id": "ff5448e1-f15c-4da2-a11b-63b942d0a755",
   "metadata": {},
   "source": [
    "# replace function"
   ]
  },
  {
   "cell_type": "code",
   "execution_count": 35,
   "id": "71431861-c7fa-40f5-ab66-1413e441d127",
   "metadata": {},
   "outputs": [
    {
     "name": "stdout",
     "output_type": "stream",
     "text": [
      "bye how are you\n"
     ]
    }
   ],
   "source": [
    "w =\"hello how are you\"\n",
    "print(w.replace(\"hello\", \"bye\"))"
   ]
  },
  {
   "cell_type": "markdown",
   "id": "e3794bb4-b363-4ae1-a8b4-16ff8fc7541f",
   "metadata": {},
   "source": [
    "# string concatenation"
   ]
  },
  {
   "cell_type": "code",
   "execution_count": 36,
   "id": "eb8c11c1-a3a5-4d30-8144-2e575b9403e2",
   "metadata": {},
   "outputs": [
    {
     "name": "stdout",
     "output_type": "stream",
     "text": [
      "hello world\n"
     ]
    }
   ],
   "source": [
    "a =\"hello\"\n",
    "b =\"world\"\n",
    "c =a + \" \"+b\n",
    "print(c)"
   ]
  },
  {
   "cell_type": "markdown",
   "id": "71dbb29d-79b2-40cf-93b4-10abbbd6938d",
   "metadata": {},
   "source": [
    "#  check string"
   ]
  },
  {
   "cell_type": "code",
   "execution_count": 37,
   "id": "5d6a2604-5388-4a78-9f05-5c79ca598cc0",
   "metadata": {},
   "outputs": [
    {
     "name": "stdout",
     "output_type": "stream",
     "text": [
      "True\n"
     ]
    }
   ],
   "source": [
    "a =\"new delhi is the capital of india\"\n",
    "print(\"capital\"in a)"
   ]
  },
  {
   "cell_type": "code",
   "execution_count": 38,
   "id": "d84818cb-9a76-4062-a23a-9250cfc5c8f7",
   "metadata": {},
   "outputs": [
    {
     "name": "stdout",
     "output_type": "stream",
     "text": [
      "yes ,capital is present \n"
     ]
    }
   ],
   "source": [
    "a =\"new delhi is the capital of india\"\n",
    "if\"capital\" in a:\n",
    "    print(\"yes ,capital is present \")"
   ]
  },
  {
   "cell_type": "markdown",
   "id": "993d96b5-cac9-487c-b0e5-622b63933cdf",
   "metadata": {},
   "source": [
    "# check if not "
   ]
  },
  {
   "cell_type": "code",
   "execution_count": 39,
   "id": "a20c7c1f-ee95-4d6f-ba09-3892ff993036",
   "metadata": {},
   "outputs": [
    {
     "name": "stdout",
     "output_type": "stream",
     "text": [
      "True\n"
     ]
    }
   ],
   "source": [
    "a =\"new delhi is the capital of india\"\n",
    "print(\"bombay\"not in a)"
   ]
  },
  {
   "cell_type": "markdown",
   "id": "491a747b-1f9f-4a98-b677-530a872e730e",
   "metadata": {},
   "source": [
    "# find () method"
   ]
  },
  {
   "cell_type": "code",
   "execution_count": 40,
   "id": "05e62277-65e5-4341-b59b-0acfa475a823",
   "metadata": {},
   "outputs": [
    {
     "name": "stdout",
     "output_type": "stream",
     "text": [
      "10\n"
     ]
    }
   ],
   "source": [
    "a = \"python is great\"\n",
    "b = a.find(\"g\")\n",
    "print(b)"
   ]
  },
  {
   "cell_type": "code",
   "execution_count": 43,
   "id": "23887e51-7fef-41b9-b3e3-51bb3b1a012e",
   "metadata": {},
   "outputs": [
    {
     "name": "stdout",
     "output_type": "stream",
     "text": [
      "0\n"
     ]
    }
   ],
   "source": [
    "c = \"pthon is great\"\n",
    "d = c.find(\"p\")\n",
    "print(d)"
   ]
  },
  {
   "cell_type": "markdown",
   "id": "b1a0105d-013c-43a8-8d0a-5e6098cd63bb",
   "metadata": {},
   "source": [
    "# python string index() method "
   ]
  },
  {
   "cell_type": "code",
   "execution_count": 44,
   "id": "4a71e64a-4788-47ee-9739-26d4e0d8e4f1",
   "metadata": {},
   "outputs": [
    {
     "name": "stdout",
     "output_type": "stream",
     "text": [
      "1\n"
     ]
    }
   ],
   "source": [
    "txt = \"hello, welcomr to my world\"\n",
    "\n",
    "x = txt.index(\"e\")\n",
    "\n",
    "print(x)"
   ]
  },
  {
   "cell_type": "code",
   "execution_count": null,
   "id": "f6697734-60ea-499c-aed8-76c9595952a6",
   "metadata": {},
   "outputs": [],
   "source": []
  }
 ],
 "metadata": {
  "kernelspec": {
   "display_name": "Python 3 (ipykernel)",
   "language": "python",
   "name": "python3"
  },
  "language_info": {
   "codemirror_mode": {
    "name": "ipython",
    "version": 3
   },
   "file_extension": ".py",
   "mimetype": "text/x-python",
   "name": "python",
   "nbconvert_exporter": "python",
   "pygments_lexer": "ipython3",
   "version": "3.12.4"
  }
 },
 "nbformat": 4,
 "nbformat_minor": 5
}
