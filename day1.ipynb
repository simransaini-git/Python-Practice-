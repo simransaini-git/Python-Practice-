{
 "cells": [
  {
   "cell_type": "markdown",
   "id": "cb8fd6b8-4ef0-447e-bfee-964173af181f",
   "metadata": {},
   "source": [
    "this is my first class"
   ]
  },
  {
   "cell_type": "code",
   "execution_count": 1,
   "id": "efb05b58-c5e8-4d9a-a2b4-f3d1c277b471",
   "metadata": {},
   "outputs": [
    {
     "name": "stdout",
     "output_type": "stream",
     "text": [
      "this is my first class\n"
     ]
    }
   ],
   "source": [
    "print(\"this is my first class\")"
   ]
  },
  {
   "cell_type": "raw",
   "id": "63dd5fb8-eea7-4b65-9eb5-dffbf29337b3",
   "metadata": {},
   "source": [
    "this is my first class"
   ]
  },
  {
   "cell_type": "markdown",
   "id": "57349da5-d578-4182-88cc-86d0a33a1d8c",
   "metadata": {},
   "source": [
    "# this is my first class "
   ]
  },
  {
   "cell_type": "markdown",
   "id": "f4838570-acdb-4cd2-93ee-6b99d30f9491",
   "metadata": {},
   "source": [
    "# this is my first class "
   ]
  },
  {
   "cell_type": "code",
   "execution_count": 2,
   "id": "b40bf2fd-5404-465e-9263-32c93b144838",
   "metadata": {},
   "outputs": [
    {
     "name": "stdout",
     "output_type": "stream",
     "text": [
      "5\n"
     ]
    }
   ],
   "source": [
    "print(2+3)"
   ]
  },
  {
   "cell_type": "markdown",
   "id": "bc068ad1-c385-42fb-8645-b048219668cd",
   "metadata": {},
   "source": [
    "# day 1- this is the first class of python\n",
    "\n",
    "\n"
   ]
  },
  {
   "cell_type": "markdown",
   "id": "265bb077-0659-4979-8d2c-4606fda190cd",
   "metadata": {},
   "source": [
    "we are going to write our first program"
   ]
  },
  {
   "cell_type": "code",
   "execution_count": 4,
   "id": "49db896a-7188-4c9d-8d79-cd30013f8efe",
   "metadata": {},
   "outputs": [
    {
     "name": "stdout",
     "output_type": "stream",
     "text": [
      "hello world. this is an amazing python class\n"
     ]
    }
   ],
   "source": [
    "print(\"hello world. this is an amazing python class\")"
   ]
  },
  {
   "cell_type": "code",
   "execution_count": 5,
   "id": "63180d35-b222-4836-b846-9037327a7a2d",
   "metadata": {},
   "outputs": [
    {
     "name": "stdout",
     "output_type": "stream",
     "text": [
      "5\n"
     ]
    }
   ],
   "source": [
    "print(2+3)"
   ]
  },
  {
   "cell_type": "markdown",
   "id": "36225e43-6c10-4c03-ba59-84abb05716e0",
   "metadata": {},
   "source": [
    "# Python Comments"
   ]
  },
  {
   "cell_type": "code",
   "execution_count": 7,
   "id": "1db518f2-b9bf-4469-84bd-ef888d6ffd8d",
   "metadata": {},
   "outputs": [
    {
     "name": "stdout",
     "output_type": "stream",
     "text": [
      "hello world\n"
     ]
    }
   ],
   "source": [
    "#this is comment\n",
    "print(\"hello world\")"
   ]
  },
  {
   "cell_type": "markdown",
   "id": "cd6d216a-9a45-4c9a-ace0-f868ecb9b451",
   "metadata": {},
   "source": [
    "# multiline comment"
   ]
  },
  {
   "cell_type": "code",
   "execution_count": 9,
   "id": "45710ea9-af16-46fc-bc23-092f6f09c3e8",
   "metadata": {},
   "outputs": [
    {
     "name": "stdout",
     "output_type": "stream",
     "text": [
      "5\n"
     ]
    }
   ],
   "source": [
    "#this is comment 1\n",
    "#this is comment 2\n",
    "#this is comment 3\n",
    "\n",
    "print(2+3)"
   ]
  },
  {
   "cell_type": "code",
   "execution_count": 10,
   "id": "b8bc407c-3bbb-4ce4-96cb-8469a1e9c169",
   "metadata": {},
   "outputs": [
    {
     "name": "stdout",
     "output_type": "stream",
     "text": [
      "11\n"
     ]
    }
   ],
   "source": [
    "\"\"\" this is our first class of python \"\"\"\n",
    "print(5+6)"
   ]
  },
  {
   "cell_type": "code",
   "execution_count": null,
   "id": "c1404d29-47ea-47d6-822d-1986733818d0",
   "metadata": {},
   "outputs": [],
   "source": []
  }
 ],
 "metadata": {
  "kernelspec": {
   "display_name": "Python 3 (ipykernel)",
   "language": "python",
   "name": "python3"
  },
  "language_info": {
   "codemirror_mode": {
    "name": "ipython",
    "version": 3
   },
   "file_extension": ".py",
   "mimetype": "text/x-python",
   "name": "python",
   "nbconvert_exporter": "python",
   "pygments_lexer": "ipython3",
   "version": "3.12.4"
  }
 },
 "nbformat": 4,
 "nbformat_minor": 5
}
