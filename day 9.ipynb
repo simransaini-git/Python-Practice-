{
 "cells": [
  {
   "cell_type": "markdown",
   "id": "93b436f3-3761-4514-a566-796a396c72a7",
   "metadata": {},
   "source": [
    "# Day -9"
   ]
  },
  {
   "cell_type": "markdown",
   "id": "cf0b547d-fae7-4d61-8dfb-8889ccb9e123",
   "metadata": {},
   "source": [
    "# tuples in python"
   ]
  },
  {
   "cell_type": "markdown",
   "id": "39535131-c407-41be-89b5-af6314259c18",
   "metadata": {},
   "source": [
    "# creating a tuple"
   ]
  },
  {
   "cell_type": "code",
   "execution_count": 3,
   "id": "3d9ba4e3-8a6e-4456-91c4-780b2cbfa35f",
   "metadata": {},
   "outputs": [
    {
     "name": "stdout",
     "output_type": "stream",
     "text": [
      "(1, 2)\n",
      "<class 'tuple'>\n"
     ]
    }
   ],
   "source": [
    "my_tuple = (1,2)\n",
    "print(my_tuple)\n",
    "print(type(my_tuple))"
   ]
  },
  {
   "cell_type": "markdown",
   "id": "e2404466-cc17-46cb-83d5-1b01f721a62b",
   "metadata": {},
   "source": [
    "# mixed data type"
   ]
  },
  {
   "cell_type": "code",
   "execution_count": 4,
   "id": "720f6a65-853b-4d4c-9d7f-f423aa29f61e",
   "metadata": {},
   "outputs": [
    {
     "name": "stdout",
     "output_type": "stream",
     "text": [
      "(1, 'hello', 3.2, (4+5j))\n",
      "<class 'tuple'>\n"
     ]
    }
   ],
   "source": [
    "my_tuple =(1,\"hello\",3.2,4+5j)\n",
    "print(my_tuple)\n",
    "print(type(my_tuple))"
   ]
  },
  {
   "cell_type": "markdown",
   "id": "54d0f975-2076-4ac6-b571-a901e0610a32",
   "metadata": {},
   "source": [
    "# empty tuple"
   ]
  },
  {
   "cell_type": "code",
   "execution_count": 5,
   "id": "6eea039f-83d1-4dd9-8341-8c88fa8bebc2",
   "metadata": {},
   "outputs": [
    {
     "name": "stdout",
     "output_type": "stream",
     "text": [
      "()\n",
      "<class 'tuple'>\n"
     ]
    }
   ],
   "source": [
    "my_tuple =()\n",
    "print(my_tuple)\n",
    "print(type(my_tuple))\n"
   ]
  },
  {
   "cell_type": "markdown",
   "id": "4c9b9ecb-7d3c-4635-82a4-786d7e71e712",
   "metadata": {},
   "source": [
    "# nested tuple"
   ]
  },
  {
   "cell_type": "code",
   "execution_count": 8,
   "id": "84b6d3ff-22a0-4acc-b136-59dc4db61534",
   "metadata": {},
   "outputs": [
    {
     "name": "stdout",
     "output_type": "stream",
     "text": [
      "('data', [1, 2, 3], (4, 5, 6))\n",
      "<class 'tuple'>\n"
     ]
    }
   ],
   "source": [
    "a =(\"data\",[1,2,3],(4,5,6))\n",
    "print(a)\n",
    "print(type(a))"
   ]
  },
  {
   "cell_type": "markdown",
   "id": "9186b762-2d6a-4c40-8226-a6ada5aa8c74",
   "metadata": {},
   "source": [
    "# creating a tuple with only one item"
   ]
  },
  {
   "cell_type": "code",
   "execution_count": 12,
   "id": "4f001dfe-0dba-4e57-83a5-9cdd06b75fe9",
   "metadata": {},
   "outputs": [
    {
     "name": "stdout",
     "output_type": "stream",
     "text": [
      "(5,)\n",
      "<class 'tuple'>\n"
     ]
    }
   ],
   "source": [
    "var1 =(5,)\n",
    "print(var1)\n",
    "print(type(var1))"
   ]
  },
  {
   "cell_type": "markdown",
   "id": "67470b67-e20a-45a0-ac57-3a3ff528c599",
   "metadata": {},
   "source": [
    "# tuple constructor"
   ]
  },
  {
   "cell_type": "code",
   "execution_count": 13,
   "id": "22263bfe-5c54-4230-90a5-08f10baec01a",
   "metadata": {},
   "outputs": [
    {
     "name": "stdout",
     "output_type": "stream",
     "text": [
      "('a', 'b', 'c')\n",
      "<class 'tuple'>\n"
     ]
    }
   ],
   "source": [
    "a = tuple((\"a\",\"b\",\"c\"))\n",
    "print(a)\n",
    "print(type(a))"
   ]
  },
  {
   "cell_type": "markdown",
   "id": "a4346b71-66f9-47a2-a992-1c19ac1f128d",
   "metadata": {},
   "source": [
    "# Indexing"
   ]
  },
  {
   "cell_type": "code",
   "execution_count": 16,
   "id": "b20db52c-e639-4a54-9dfd-a8354847a19d",
   "metadata": {},
   "outputs": [
    {
     "name": "stdout",
     "output_type": "stream",
     "text": [
      "python\n"
     ]
    }
   ],
   "source": [
    "a =(47,48,54,89,6,1,24,4,\"data\",\"python\")\n",
    "print(a[9])"
   ]
  },
  {
   "cell_type": "markdown",
   "id": "a738d3d2-0291-453f-a3e0-f69b21f35b35",
   "metadata": {},
   "source": [
    "# slicing"
   ]
  },
  {
   "cell_type": "code",
   "execution_count": 18,
   "id": "6b6cf0d6-37a6-45c7-bb93-a486181beed3",
   "metadata": {},
   "outputs": [
    {
     "name": "stdout",
     "output_type": "stream",
     "text": [
      "(14, 15, 12, 16, 18, 28)\n"
     ]
    }
   ],
   "source": [
    "a =(14,15,12,16,18,28,23,65,486,23,45)\n",
    "len(a)\n",
    "print(a[0:6])"
   ]
  },
  {
   "cell_type": "code",
   "execution_count": 23,
   "id": "b4abb58f-6782-4514-a62b-524e709b28cc",
   "metadata": {},
   "outputs": [
    {
     "name": "stdout",
     "output_type": "stream",
     "text": [
      "(54, 63, 4, 58, 89, 24)\n"
     ]
    }
   ],
   "source": [
    "b =(54,45,63,452,4,5,58,65,89,56,24)\n",
    "print(b[::2])"
   ]
  },
  {
   "cell_type": "code",
   "execution_count": 24,
   "id": "cac73f08-f878-42c5-b6fb-805e013feb60",
   "metadata": {},
   "outputs": [
    {
     "name": "stdout",
     "output_type": "stream",
     "text": [
      "(54, 45, 63, 452, 4, 5, 58, 65)\n"
     ]
    }
   ],
   "source": [
    "c =(54,45,63,452,4,5,58,65,89,56,24)\n",
    "print(c[:8])"
   ]
  },
  {
   "cell_type": "code",
   "execution_count": 25,
   "id": "c6040d6a-4322-4cf5-8d61-40d1f98fbade",
   "metadata": {},
   "outputs": [
    {
     "name": "stdout",
     "output_type": "stream",
     "text": [
      "(54, 45, 63, 452, 4, 5, 58, 65, 89, 56, 24)\n"
     ]
    }
   ],
   "source": [
    "d =(54,45,63,452,4,5,58,65,89,56,24)\n",
    "print(d[:])"
   ]
  },
  {
   "cell_type": "markdown",
   "id": "51a0a9d4-0f26-4029-9aab-4dad55f8adb5",
   "metadata": {},
   "source": [
    "# reverse a tuple"
   ]
  },
  {
   "cell_type": "code",
   "execution_count": 26,
   "id": "dc4cef41-5715-45c7-b293-0aa5ac578134",
   "metadata": {},
   "outputs": [
    {
     "name": "stdout",
     "output_type": "stream",
     "text": [
      "(2, 23, 46, 75, 56, 789, 26, 45, 89, 36, 21, 45)\n"
     ]
    }
   ],
   "source": [
    "e =(45,21,36,89,45,26,789,56,75,46,23,2)\n",
    "print(e[::-1])"
   ]
  },
  {
   "cell_type": "markdown",
   "id": "06273bed-9840-439b-accd-2f6fbcccf9c5",
   "metadata": {},
   "source": [
    "# Question"
   ]
  },
  {
   "cell_type": "code",
   "execution_count": 27,
   "id": "104f4349-7d3a-473f-809e-1670b97afe51",
   "metadata": {},
   "outputs": [
    {
     "name": "stdout",
     "output_type": "stream",
     "text": [
      "(1, 2, 3, 4, 5, 6, 7, 8)\n",
      "(4, 5, 6, 7, 8)\n",
      "(1, 2, 3, 4)\n",
      "7\n"
     ]
    }
   ],
   "source": [
    "T =(1,2,3,4,5,6,7,8)\n",
    "print(T[::])\n",
    "print(T[3:])\n",
    "print(T[:4])\n",
    "print(T[-2])"
   ]
  },
  {
   "cell_type": "code",
   "execution_count": 28,
   "id": "ec85e2da-3312-4ca7-928f-64355e91523e",
   "metadata": {},
   "outputs": [
    {
     "name": "stdout",
     "output_type": "stream",
     "text": [
      "(25, 26, 27, 28, 29, '30')\n"
     ]
    }
   ],
   "source": [
    "a =(25,26,27,28,29)\n",
    "y =list(a)\n",
    "y.append(\"30\")\n",
    "a = tuple(y)\n",
    "print(a)\n"
   ]
  },
  {
   "cell_type": "markdown",
   "id": "8c84a93e-c72a-4d54-ac87-06db9c30e51b",
   "metadata": {},
   "source": [
    "# add tuple to tuple"
   ]
  },
  {
   "cell_type": "code",
   "execution_count": 41,
   "id": "90a49bcc-052a-4ba1-bb99-0d4ddf57cbbb",
   "metadata": {},
   "outputs": [
    {
     "name": "stdout",
     "output_type": "stream",
     "text": [
      "('python', 'data', 'work', 'code')\n"
     ]
    }
   ],
   "source": [
    "tuple =(\"python\",\"data\",\"work\")\n",
    "y =(\"code\",)\n",
    "tuple += y\n",
    "print(tuple)"
   ]
  },
  {
   "cell_type": "markdown",
   "id": "d557f6ee-b1b6-47fc-8b18-8bb9542469be",
   "metadata": {},
   "source": [
    "# remove item"
   ]
  },
  {
   "cell_type": "code",
   "execution_count": 29,
   "id": "1081eca6-ff67-4205-b0ce-2b848808e1ea",
   "metadata": {},
   "outputs": [
    {
     "name": "stdout",
     "output_type": "stream",
     "text": [
      "(25, 27, 28, 29)\n"
     ]
    }
   ],
   "source": [
    "a =(25,26,27,28,29)\n",
    "y =list(a)\n",
    "y.remove(26)\n",
    "a =tuple(y)\n",
    "print(a)"
   ]
  },
  {
   "cell_type": "markdown",
   "id": "99705f1b-1bcf-4851-8525-3584f4048ec6",
   "metadata": {},
   "source": [
    "# Loop through a tuple"
   ]
  },
  {
   "cell_type": "code",
   "execution_count": 30,
   "id": "86c0dd63-2c64-4f93-81cf-b4c77092ad14",
   "metadata": {},
   "outputs": [
    {
     "name": "stdout",
     "output_type": "stream",
     "text": [
      "a\n",
      "b\n",
      "c\n"
     ]
    }
   ],
   "source": [
    "thistuple =(\"a\",\"b\",\"c\")\n",
    "for x in thistuple:\n",
    "    print(x)\n"
   ]
  },
  {
   "cell_type": "code",
   "execution_count": 31,
   "id": "5b68805c-a4fb-4423-8bc4-c5c54ff54592",
   "metadata": {},
   "outputs": [
    {
     "name": "stdout",
     "output_type": "stream",
     "text": [
      "apple\n",
      "mango\n",
      "cherry\n"
     ]
    }
   ],
   "source": [
    "thistuple =(\"apple\",\"mango\",\"cherry\")\n",
    "i =0\n",
    "while i< len(thistuple):\n",
    "    print(thistuple[i])\n",
    "    i = i+1"
   ]
  },
  {
   "cell_type": "markdown",
   "id": "ca975858-80a0-4724-93d8-c10bdfd709d1",
   "metadata": {},
   "source": [
    "# Join Two Tuples"
   ]
  },
  {
   "cell_type": "code",
   "execution_count": 32,
   "id": "e5ca8a76-9e58-4fe0-9c04-68e6a4761e0c",
   "metadata": {},
   "outputs": [
    {
     "name": "stdout",
     "output_type": "stream",
     "text": [
      "('a', 'b', 'c', 1, 2, 3)\n"
     ]
    }
   ],
   "source": [
    "tuple1 =(\"a\",\"b\",\"c\")\n",
    "tuple2 =(1,2,3)\n",
    "\n",
    "tuple3 =tuple1 + tuple2\n",
    "print(tuple3)"
   ]
  },
  {
   "cell_type": "markdown",
   "id": "796f9aff-00df-4f02-ac87-ed28cd7d7e58",
   "metadata": {},
   "source": [
    "# Multiply Tuples"
   ]
  },
  {
   "cell_type": "code",
   "execution_count": 33,
   "id": "5734204d-bb67-4d4b-83e8-7b343e0c2e4d",
   "metadata": {},
   "outputs": [
    {
     "name": "stdout",
     "output_type": "stream",
     "text": [
      "('aaple', 'data', 'python', 'aaple', 'data', 'python')\n"
     ]
    }
   ],
   "source": [
    "a =(\"aaple\",\"data\",\"python\")\n",
    "b = a*2\n",
    "print(b)"
   ]
  },
  {
   "cell_type": "markdown",
   "id": "aeda656c-dea5-438c-b0c9-1f487791c58a",
   "metadata": {},
   "source": [
    "# question"
   ]
  },
  {
   "cell_type": "code",
   "execution_count": 34,
   "id": "bd3abd0d-973b-4406-a848-f76ee50b1b98",
   "metadata": {},
   "outputs": [
    {
     "name": "stdout",
     "output_type": "stream",
     "text": [
      "(1, 2, 3, 4, 5, 6, 7, 8, 1, 2, 3, 4, 5, 6, 7, 8)\n",
      "(1, 2, 3, 4, 5, 6, 7, 8, 1, 2, 3, 4, 5, 6, 7, 8, 1, 2, 3, 4, 5, 6, 7, 8)\n",
      "(1, 2, 3, 4, 5, 6, 7, 8, 1, 2, 3, 4, 5, 6, 7, 8)\n",
      "8\n"
     ]
    }
   ],
   "source": [
    "T = (1,2,3,4,5,6,7,8,)\n",
    "print(T*2)\n",
    "print(T+T+T)\n",
    "print(T+T)\n",
    "print(len(T))"
   ]
  },
  {
   "cell_type": "markdown",
   "id": "9f28ff6d-7223-4c46-a5f7-3c83cc448104",
   "metadata": {},
   "source": [
    "# write a program to take 5 input from user and store it in a tuple."
   ]
  },
  {
   "cell_type": "code",
   "execution_count": 37,
   "id": "f2caf136-73aa-4d73-be70-4163dc490dff",
   "metadata": {},
   "outputs": [
    {
     "name": "stdin",
     "output_type": "stream",
     "text": [
      "enter the values :  10\n"
     ]
    },
    {
     "name": "stdout",
     "output_type": "stream",
     "text": [
      "(10,)\n"
     ]
    },
    {
     "name": "stdin",
     "output_type": "stream",
     "text": [
      "enter the values :  20\n"
     ]
    },
    {
     "name": "stdout",
     "output_type": "stream",
     "text": [
      "(10, 20)\n"
     ]
    },
    {
     "name": "stdin",
     "output_type": "stream",
     "text": [
      "enter the values :  30\n"
     ]
    },
    {
     "name": "stdout",
     "output_type": "stream",
     "text": [
      "(10, 20, 30)\n"
     ]
    },
    {
     "name": "stdin",
     "output_type": "stream",
     "text": [
      "enter the values :  40\n"
     ]
    },
    {
     "name": "stdout",
     "output_type": "stream",
     "text": [
      "(10, 20, 30, 40)\n"
     ]
    },
    {
     "name": "stdin",
     "output_type": "stream",
     "text": [
      "enter the values :  50\n"
     ]
    },
    {
     "name": "stdout",
     "output_type": "stream",
     "text": [
      "(10, 20, 30, 40, 50)\n"
     ]
    },
    {
     "name": "stdin",
     "output_type": "stream",
     "text": [
      "enter the values :  60\n"
     ]
    },
    {
     "name": "stdout",
     "output_type": "stream",
     "text": [
      "(10, 20, 30, 40, 50, 60)\n"
     ]
    }
   ],
   "source": [
    "T =()\n",
    "i = 0\n",
    "while i<=5:\n",
    "    num = int(input(\"enter the values : \"))\n",
    "    T = T+(num,)\n",
    "    i = i+1\n",
    "    print(T)\n",
    "    "
   ]
  },
  {
   "cell_type": "code",
   "execution_count": null,
   "id": "c5013eb9-3953-4574-832a-15580e379eb6",
   "metadata": {},
   "outputs": [],
   "source": []
  }
 ],
 "metadata": {
  "kernelspec": {
   "display_name": "Python 3 (ipykernel)",
   "language": "python",
   "name": "python3"
  },
  "language_info": {
   "codemirror_mode": {
    "name": "ipython",
    "version": 3
   },
   "file_extension": ".py",
   "mimetype": "text/x-python",
   "name": "python",
   "nbconvert_exporter": "python",
   "pygments_lexer": "ipython3",
   "version": "3.12.4"
  }
 },
 "nbformat": 4,
 "nbformat_minor": 5
}
