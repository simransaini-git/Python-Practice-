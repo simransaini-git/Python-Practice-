{
 "cells": [
  {
   "cell_type": "markdown",
   "id": "04b53f38-08d7-400d-b283-1b1cafa112ac",
   "metadata": {},
   "source": [
    "#  Day 10"
   ]
  },
  {
   "cell_type": "markdown",
   "id": "447a619c-19e7-4861-83cd-5e953202cd19",
   "metadata": {},
   "source": [
    "# creating a dictionary"
   ]
  },
  {
   "cell_type": "code",
   "execution_count": 2,
   "id": "c6eec42f-4e28-44f2-8ba9-bbc6810a88bd",
   "metadata": {},
   "outputs": [
    {
     "name": "stdout",
     "output_type": "stream",
     "text": [
      "{'ID': '123b', 'color': 'Black', 'year': 1964}\n",
      "<class 'dict'>\n"
     ]
    }
   ],
   "source": [
    "a = {\n",
    "    \"ID\" :\"123b\",\n",
    "    \"color\" :\"Black\",\n",
    "    \"year\" : 1964\n",
    "}\n",
    "print(a)\n",
    "print(type(a))"
   ]
  },
  {
   "cell_type": "markdown",
   "id": "0432ec07-0ad4-4054-86a0-e4671d8e6997",
   "metadata": {},
   "source": [
    "# dictionary items are ordered"
   ]
  },
  {
   "cell_type": "code",
   "execution_count": 2,
   "id": "90f99769-be3e-4b39-be21-65a49207475c",
   "metadata": {},
   "outputs": [
    {
     "name": "stdout",
     "output_type": "stream",
     "text": [
      "Black\n"
     ]
    }
   ],
   "source": [
    "b = {\n",
    "    \"ID\" :\"123b\",\n",
    "    \"color\" :\"Black\",\n",
    "    \"year\" : 1964\n",
    "}\n",
    "print(b[\"color\"])"
   ]
  },
  {
   "cell_type": "markdown",
   "id": "1eaf6826-6a52-4499-81f2-052c65224730",
   "metadata": {},
   "source": [
    "# duplictes not allowed"
   ]
  },
  {
   "cell_type": "code",
   "execution_count": 4,
   "id": "3431c4c7-8227-4b33-9d97-8a999906e063",
   "metadata": {},
   "outputs": [
    {
     "name": "stdout",
     "output_type": "stream",
     "text": [
      "{'ID': '123b', 'color': 'Black', 'year': 2000}\n"
     ]
    }
   ],
   "source": [
    "c = {\n",
    "    \"ID\" :\"123b\",\n",
    "    \"color\" :\"Black\",\n",
    "    \"year\" : 1964,\n",
    "    \"year\" :2000\n",
    "}\n",
    "print(c)"
   ]
  },
  {
   "cell_type": "markdown",
   "id": "56e13730-c364-4889-b4e2-f1ca7cf562e1",
   "metadata": {},
   "source": [
    "# dictionary length"
   ]
  },
  {
   "cell_type": "code",
   "execution_count": 5,
   "id": "8bf228b5-a237-45ae-8371-caa9b49f27ec",
   "metadata": {},
   "outputs": [
    {
     "name": "stdout",
     "output_type": "stream",
     "text": [
      "3\n"
     ]
    }
   ],
   "source": [
    "d = {\n",
    "    \"ID\" :\"123b\",\n",
    "    \"color\" :\"Black\",\n",
    "    \"year\" : 1964\n",
    "}\n",
    "print(len(d))"
   ]
  },
  {
   "cell_type": "markdown",
   "id": "9f8f3fe5-f912-4bda-a631-1af5c3222645",
   "metadata": {},
   "source": [
    "# data items- Data types"
   ]
  },
  {
   "cell_type": "code",
   "execution_count": 8,
   "id": "2a46e925-0076-4f1c-a999-e2cc49f9ec9f",
   "metadata": {},
   "outputs": [
    {
     "name": "stdout",
     "output_type": "stream",
     "text": [
      "{'ID': '123b', 'color': 'Black', 'year': 1964, 'a': [1, 2, 3, 4, 5], 'b': (2.2, 2.3, 2.4, 2.5), 'c': False}\n"
     ]
    }
   ],
   "source": [
    "e = {\n",
    "    \"ID\" :\"123b\",\n",
    "    \"color\" :\"Black\",\n",
    "    \"year\" : 1964,\n",
    "     'a' : [1,2,3,4,5],\n",
    "    'b' :(2.2,2.3,2.4,2.5),\n",
    "    'c' : False\n",
    "}\n",
    "print(e)"
   ]
  },
  {
   "cell_type": "markdown",
   "id": "f7370474-60e0-4273-98cd-3d7f187e2d58",
   "metadata": {},
   "source": [
    "# the dic() constructor"
   ]
  },
  {
   "cell_type": "code",
   "execution_count": 11,
   "id": "dd5d3b7a-9e2f-43db-a74d-4d07284b6c26",
   "metadata": {},
   "outputs": [
    {
     "name": "stdout",
     "output_type": "stream",
     "text": [
      "{'name': 'simran', 'age': 19, 'country': 'India'}\n",
      "<class 'dict'>\n"
     ]
    }
   ],
   "source": [
    "a =dict(name =\"simran\" ,age = 19, country =\"India\")\n",
    "print(a)\n",
    "print(type(a))"
   ]
  },
  {
   "cell_type": "markdown",
   "id": "1d1b3873-c5bf-4f11-9de9-616c73a8fc83",
   "metadata": {},
   "source": [
    "# Accessing the items"
   ]
  },
  {
   "cell_type": "code",
   "execution_count": 13,
   "id": "9a74c4c0-e98a-4db6-bc19-9e5baa029b76",
   "metadata": {},
   "outputs": [
    {
     "name": "stdout",
     "output_type": "stream",
     "text": [
      "simran\n"
     ]
    }
   ],
   "source": [
    "a ={\"name\": \"simran\",\"age\": \"19\" ,\"country\" : \"India\"}\n",
    "print(a['name'])"
   ]
  },
  {
   "cell_type": "markdown",
   "id": "3b3bbb4d-db3f-4bc0-8781-e1ec1cc4928a",
   "metadata": {},
   "source": [
    "# using get keys"
   ]
  },
  {
   "cell_type": "code",
   "execution_count": 14,
   "id": "3a247585-c66c-48bc-b052-9ac669ebfa64",
   "metadata": {},
   "outputs": [
    {
     "name": "stdout",
     "output_type": "stream",
     "text": [
      "simran\n"
     ]
    }
   ],
   "source": [
    "a ={\"name\": \"simran\",\"age\": \"19\" ,\"country\" : \"India\"}\n",
    "print(a.get(\"name\"))"
   ]
  },
  {
   "cell_type": "code",
   "execution_count": 16,
   "id": "b2eba2d8-638c-4346-8394-9946c366524c",
   "metadata": {},
   "outputs": [],
   "source": [
    "a ={\"name\": \"simran\",\"age\": \"19\" ,\"country\" : \"India\"}\n"
   ]
  },
  {
   "cell_type": "code",
   "execution_count": 18,
   "id": "7782adb1-1315-4ec2-b615-0cb2c3d49102",
   "metadata": {},
   "outputs": [
    {
     "data": {
      "text/plain": [
       "dict_keys(['name', 'age', 'country'])"
      ]
     },
     "execution_count": 18,
     "metadata": {},
     "output_type": "execute_result"
    }
   ],
   "source": [
    "x =a.keys()\n",
    "x"
   ]
  },
  {
   "cell_type": "markdown",
   "id": "c3c4a2a4-4224-4ccf-b2ab-fe0e08f55cc8",
   "metadata": {},
   "source": [
    "# get values"
   ]
  },
  {
   "cell_type": "code",
   "execution_count": 19,
   "id": "8bbb37e0-9a18-49ab-85d2-ba6e1c97c36a",
   "metadata": {},
   "outputs": [],
   "source": [
    "a ={\"name\": \"simran\",\"age\": \"19\" ,\"country\" : \"India\"}"
   ]
  },
  {
   "cell_type": "code",
   "execution_count": 20,
   "id": "5735a6fe-e13e-4bb0-a6fd-22ec65e46a44",
   "metadata": {},
   "outputs": [],
   "source": [
    "y = a.values()"
   ]
  },
  {
   "cell_type": "code",
   "execution_count": 21,
   "id": "8aee4e12-7f5d-453b-8fd1-6bc5c2b37af0",
   "metadata": {},
   "outputs": [
    {
     "data": {
      "text/plain": [
       "dict_values(['simran', '19', 'India'])"
      ]
     },
     "execution_count": 21,
     "metadata": {},
     "output_type": "execute_result"
    }
   ],
   "source": [
    "y"
   ]
  },
  {
   "cell_type": "markdown",
   "id": "d8b60ddb-b61b-41a8-94b9-e24001027143",
   "metadata": {},
   "source": [
    "# change values"
   ]
  },
  {
   "cell_type": "code",
   "execution_count": 22,
   "id": "42ca37fe-2334-459e-adbf-f553ed27a540",
   "metadata": {},
   "outputs": [
    {
     "name": "stdout",
     "output_type": "stream",
     "text": [
      "{'name': 'simran', 'age': 20, 'country': 'India'}\n"
     ]
    }
   ],
   "source": [
    "a ={\"name\": \"simran\",\n",
    "    \"age\": \"19\" ,\n",
    "    \"country\" : \"India\"}\n",
    "a['age'] =20\n",
    "print(a)"
   ]
  },
  {
   "cell_type": "markdown",
   "id": "5b828373-7ded-4830-8f52-dc9dda9d7abe",
   "metadata": {},
   "source": [
    "# adding values"
   ]
  },
  {
   "cell_type": "code",
   "execution_count": 23,
   "id": "9f614b5b-26fe-458a-b927-fe77bcffae8c",
   "metadata": {},
   "outputs": [
    {
     "name": "stdout",
     "output_type": "stream",
     "text": [
      "{'name': 'simran', 'age': 20, 'country': 'India', 'gender': 'female'}\n"
     ]
    }
   ],
   "source": [
    "a ={\"name\": \"simran\",\n",
    "    \"age\": \"19\" ,\n",
    "    \"country\" : \"India\",\n",
    "    \"gender\" :\"female\"}\n",
    "a['age'] =20\n",
    "print(a)"
   ]
  },
  {
   "cell_type": "markdown",
   "id": "c11273e9-c0a3-49fc-961e-965967b1ffd7",
   "metadata": {},
   "source": [
    "# update method()"
   ]
  },
  {
   "cell_type": "code",
   "execution_count": 25,
   "id": "125fe778-e09e-491e-b9cf-c30d15d5027d",
   "metadata": {},
   "outputs": [
    {
     "name": "stdout",
     "output_type": "stream",
     "text": [
      "{'name': 'simran', 'age': '19', 'country': 'India', 'gender': 'female', 'mail id ': 'simran@gmail.com'}\n"
     ]
    }
   ],
   "source": [
    "a ={\"name\": \"simran\",\n",
    "    \"age\": \"19\" ,\n",
    "    \"country\" : \"India\",\n",
    "    \"gender\" :\"female\"}\n",
    "a.update({\"mail id \" :\"simran@gmail.com\"})\n",
    "print(a)"
   ]
  },
  {
   "cell_type": "markdown",
   "id": "82a260f6-d302-424b-9d15-c946cc969312",
   "metadata": {},
   "source": [
    "# Remove Items"
   ]
  },
  {
   "cell_type": "markdown",
   "id": "e80a1776-5484-44f1-8b40-0b876a600908",
   "metadata": {},
   "source": [
    "# The pop() method removes the item with the specified key name:"
   ]
  },
  {
   "cell_type": "code",
   "execution_count": 27,
   "id": "96273411-604c-41b2-9196-8fe29c95eee0",
   "metadata": {},
   "outputs": [
    {
     "name": "stdout",
     "output_type": "stream",
     "text": [
      "{'name': 'simran', 'country': 'India', 'gender': 'female'}\n"
     ]
    }
   ],
   "source": [
    "a ={\"name\": \"simran\",\n",
    "    \"age\": \"19\" ,\n",
    "    \"country\" : \"India\",\n",
    "    \"gender\" :\"female\"}\n",
    "a.pop(\"age\")\n",
    "print(a)"
   ]
  },
  {
   "cell_type": "markdown",
   "id": "9027c35c-61d1-4327-a590-dd903f74af4a",
   "metadata": {},
   "source": [
    "#  The del keyword removes the item with the specified key name:"
   ]
  },
  {
   "cell_type": "code",
   "execution_count": 28,
   "id": "d9ab3a8f-bb9a-400a-a15a-81d10c82c854",
   "metadata": {},
   "outputs": [
    {
     "name": "stdout",
     "output_type": "stream",
     "text": [
      "{'name': 'simran', 'country': 'India', 'gender': 'female'}\n"
     ]
    }
   ],
   "source": [
    "a ={\"name\": \"simran\",\n",
    "    \"age\": \"19\" ,\n",
    "    \"country\" : \"India\",\n",
    "    \"gender\" :\"female\"}\n",
    "del a[\"age\"]\n",
    "print(a)"
   ]
  },
  {
   "cell_type": "markdown",
   "id": "817a2f19-d30c-43ec-a418-156c4db295b7",
   "metadata": {},
   "source": [
    "# use [del _ any variable ]use to delete a whole dictionary"
   ]
  },
  {
   "cell_type": "markdown",
   "id": "8fe9747a-b3cd-4222-865f-1be20e35419b",
   "metadata": {},
   "source": [
    "# The clear() method empties the dictionary"
   ]
  },
  {
   "cell_type": "code",
   "execution_count": 29,
   "id": "0584c964-1949-4b59-8e2d-586446f45f45",
   "metadata": {},
   "outputs": [
    {
     "name": "stdout",
     "output_type": "stream",
     "text": [
      "{}\n",
      "<class 'dict'>\n"
     ]
    }
   ],
   "source": [
    "a ={\"name\": \"simran\",\n",
    "    \"age\": \"19\" ,\n",
    "    \"country\" : \"India\",\n",
    "    \"gender\" :\"female\"}\n",
    "a.clear()\n",
    "print(a)\n",
    "print(type(a))"
   ]
  },
  {
   "cell_type": "markdown",
   "id": "5e2a28e0-c114-479d-9931-0fb83ebecc16",
   "metadata": {},
   "source": [
    "# write a python script to concatenate the following dictionaries to create a new one."
   ]
  },
  {
   "cell_type": "code",
   "execution_count": 33,
   "id": "1d2635e5-336a-4beb-8727-54f8cd8f79fd",
   "metadata": {},
   "outputs": [
    {
     "name": "stdout",
     "output_type": "stream",
     "text": [
      "{1: 10, 2: 20, 3: 30, 4: 40, 5: 50, 6: 60}\n"
     ]
    }
   ],
   "source": [
    "dict1 ={1:10, 2:20}\n",
    "dict2 ={3:30, 4:40}\n",
    "dict3 ={5:50, 6:60}\n",
    "dict4 ={}\n",
    "for d in (dict1 ,dict2, dict3): dict4.update(d)\n",
    "print(dict4)"
   ]
  },
  {
   "cell_type": "markdown",
   "id": "3429a305-9b16-4fa3-9f8a-80b19e1a35bb",
   "metadata": {},
   "source": [
    "# write a python program to print a dictionary in table format."
   ]
  },
  {
   "cell_type": "code",
   "execution_count": null,
   "id": "db161774-5776-4944-b581-a6a939318ed9",
   "metadata": {},
   "outputs": [],
   "source": []
  },
  {
   "cell_type": "markdown",
   "id": "a5bb66c0-0669-476a-bad4-7824876f2a22",
   "metadata": {},
   "source": [
    "# Print a dictionary where the keys are numbers between 1 and 15 and the values are square of keys."
   ]
  },
  {
   "cell_type": "code",
   "execution_count": 34,
   "id": "89fdb8bb-4999-47b0-bbb7-ff3b90074b8c",
   "metadata": {},
   "outputs": [
    {
     "name": "stdout",
     "output_type": "stream",
     "text": [
      "{1: 1, 2: 4, 3: 9, 4: 16, 5: 25, 6: 36, 7: 49, 8: 64, 9: 81, 10: 100, 11: 121, 12: 144, 13: 169, 14: 196, 15: 225}\n"
     ]
    }
   ],
   "source": [
    "d = dict()\n",
    "for x in range (1,16):\n",
    "    d[x] =x**2\n",
    "print(d)"
   ]
  },
  {
   "cell_type": "markdown",
   "id": "2e1d1d30-f686-4502-b6e4-c00367a6f32a",
   "metadata": {},
   "source": [
    "# Check whether thw given key already exists in a dictinary."
   ]
  },
  {
   "cell_type": "code",
   "execution_count": 2,
   "id": "fda21d67-cbb1-4b8b-b6f5-fe9d310a3af2",
   "metadata": {},
   "outputs": [
    {
     "name": "stdout",
     "output_type": "stream",
     "text": [
      "Key is present in dictionary\n",
      "key is not present in dictionary\n"
     ]
    }
   ],
   "source": [
    "d = {1:10, 2:20, 3:30, 4:40, 5:50 ,6:60}\n",
    "def is_key_present(x):\n",
    "    if x in d:\n",
    "        print('Key is present in dictionary')\n",
    "    else:\n",
    "        print('key is not present in dictionary')\n",
    "is_key_present(5)\n",
    "is_key_present(9)"
   ]
  },
  {
   "cell_type": "code",
   "execution_count": 4,
   "id": "82d8d7f7-2714-4322-bfd5-43c622813a0d",
   "metadata": {},
   "outputs": [
    {
     "name": "stdout",
     "output_type": "stream",
     "text": [
      "key is not present in dictionary\n"
     ]
    }
   ],
   "source": [
    "is_key_present(7)"
   ]
  },
  {
   "cell_type": "code",
   "execution_count": null,
   "id": "a78ad5ef-d745-4e17-96aa-ddd676a860f9",
   "metadata": {},
   "outputs": [],
   "source": []
  }
 ],
 "metadata": {
  "kernelspec": {
   "display_name": "Python 3 (ipykernel)",
   "language": "python",
   "name": "python3"
  },
  "language_info": {
   "codemirror_mode": {
    "name": "ipython",
    "version": 3
   },
   "file_extension": ".py",
   "mimetype": "text/x-python",
   "name": "python",
   "nbconvert_exporter": "python",
   "pygments_lexer": "ipython3",
   "version": "3.12.4"
  }
 },
 "nbformat": 4,
 "nbformat_minor": 5
}
