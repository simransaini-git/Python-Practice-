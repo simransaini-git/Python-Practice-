{
 "cells": [
  {
   "cell_type": "markdown",
   "id": "1806e516-8a93-4598-a586-ed7c7c2bc374",
   "metadata": {},
   "source": [
    "# Day - 4"
   ]
  },
  {
   "cell_type": "markdown",
   "id": "15897c32-9bd0-48ec-9ba1-798ee2d62cd2",
   "metadata": {},
   "source": [
    "# Control flow statements"
   ]
  },
  {
   "cell_type": "markdown",
   "id": "b2a79244-5568-4a8e-b270-13d9ae7dbb58",
   "metadata": {},
   "source": [
    "# if condition"
   ]
  },
  {
   "cell_type": "markdown",
   "id": "916fb804-d214-4e0e-aff7-a92ac4c57094",
   "metadata": {},
   "source": [
    "write a program to calculate the percentage of the students in the subjects maths social science english and hindi"
   ]
  },
  {
   "cell_type": "code",
   "execution_count": 6,
   "id": "94379e84-4b48-4f3a-a8ea-bbaef7d7ab53",
   "metadata": {},
   "outputs": [
    {
     "name": "stdin",
     "output_type": "stream",
     "text": [
      "enter students name gg\n",
      "enter the marks scored in english 56\n",
      "enter the marks scored in hindi 45\n",
      "enter the marks scored in social 52\n",
      "enter the marks scored in maths 52\n",
      "enter the marks scored in science 2\n"
     ]
    },
    {
     "name": "stdout",
     "output_type": "stream",
     "text": [
      "the percentage score by students:  41.4\n"
     ]
    }
   ],
   "source": [
    "x = input(\"enter students name\")\n",
    "\n",
    "a = int (input(\"enter the marks scored in english\"))\n",
    "b = int (input(\"enter the marks scored in hindi\"))\n",
    "c = int (input(\"enter the marks scored in social\"))\n",
    "d = int (input(\"enter the marks scored in maths\"))\n",
    "e = int (input(\"enter the marks scored in science\"))\n",
    "\n",
    "n = (a+b+c+d+e)/500*100\n",
    "print(\"the percentage score by students: \",n)\n",
    "\n"
   ]
  },
  {
   "cell_type": "markdown",
   "id": "fe363dca-6515-4ad4-b1d2-4c03d9b6776c",
   "metadata": {},
   "source": [
    " ifpercentage is above 90 - assign A grade\n",
    "if percentage is above 75 - assign B grade\n",
    "if percentage is above 65 - assign C grade\n"
   ]
  },
  {
   "cell_type": "code",
   "execution_count": 3,
   "id": "ab4b6c47-33c6-49af-82f1-8e6386764d68",
   "metadata": {},
   "outputs": [
    {
     "name": "stdin",
     "output_type": "stream",
     "text": [
      "enter the percentage scored by a student 80\n"
     ]
    },
    {
     "name": "stdout",
     "output_type": "stream",
     "text": [
      "B GRADE\n"
     ]
    }
   ],
   "source": [
    "a = int(input(\"enter the percentage scored by a student\"))\n",
    "\n",
    "if a>=90:\n",
    "    print(\"A GRADE\")\n",
    "if a>=75 and a<90:\n",
    "    print(\"B GRADE\")\n",
    "if a>=65 and a<75:\n",
    "    print(\"C GRADE\")\n",
    "    \n",
    "   \n",
    " "
   ]
  },
  {
   "cell_type": "markdown",
   "id": "2548b918-0e9c-403b-a40a-5cf43eaff839",
   "metadata": {},
   "source": [
    "# if else statement"
   ]
  },
  {
   "cell_type": "markdown",
   "id": "eb70c097-6a42-4afa-9ed0-689216f34095",
   "metadata": {},
   "source": [
    "write a program to display hello if number entered by user is a multiple of 5 else print bye."
   ]
  },
  {
   "cell_type": "code",
   "execution_count": 3,
   "id": "879a9c9d-debf-4a17-b646-1c3fb539c299",
   "metadata": {},
   "outputs": [
    {
     "name": "stdin",
     "output_type": "stream",
     "text": [
      "enter thr number 52\n"
     ]
    },
    {
     "name": "stdout",
     "output_type": "stream",
     "text": [
      "bye\n"
     ]
    }
   ],
   "source": [
    "a =int(input(\"enter thr number\"))\n",
    "if a%5==0:\n",
    "    print(\"hello\")\n",
    "else:\n",
    "    print(\"bye\")\n",
    "    "
   ]
  },
  {
   "cell_type": "code",
   "execution_count": 7,
   "id": "2cbb4166-1b27-45bb-8eea-16ce4f64a4e2",
   "metadata": {},
   "outputs": [
    {
     "name": "stdin",
     "output_type": "stream",
     "text": [
      "enter the number -456\n"
     ]
    },
    {
     "name": "stdout",
     "output_type": "stream",
     "text": [
      "negative number\n"
     ]
    }
   ],
   "source": [
    "a =int(input(\"enter the number\"))\n",
    "if a>0:\n",
    "       print(\"positive number\")\n",
    "else:\n",
    "       print(\"negative number\")\n",
    "\n",
    "       \n",
    "       "
   ]
  },
  {
   "cell_type": "markdown",
   "id": "6229992b-caf9-47ab-a148-d2a3c504fec7",
   "metadata": {},
   "source": [
    "# if-elif-else statement"
   ]
  },
  {
   "cell_type": "markdown",
   "id": "1e430a52-de6c-4cea-b115-ed138c8a27a7",
   "metadata": {},
   "source": [
    "accept the city and print its monuments\n",
    "\n",
    "Delhi - Red Fort\n",
    "Agra - Tah Mahal\n",
    "Jaipur - Jalmahal\n",
    "Orissa - Konark Temple\n",
    "Hyderabad - Charminar\n",
    "Other - Record not found"
   ]
  },
  {
   "cell_type": "code",
   "execution_count": 9,
   "id": "48bc0cc3-ceb7-4df7-a625-2962e5bbdfc0",
   "metadata": {},
   "outputs": [
    {
     "name": "stdin",
     "output_type": "stream",
     "text": [
      "enter the city name:  Delhi\n"
     ]
    },
    {
     "name": "stdout",
     "output_type": "stream",
     "text": [
      "The monument in delhi is Red Fort\n"
     ]
    }
   ],
   "source": [
    "city =input(\"enter the city name: \")\n",
    "if city ==\"Delhi\":\n",
    "    print(\"The monument in delhi is Red Fort\")\n",
    "elif city == \"Agra\":\n",
    "    print(\"The monument in Agra is Taj Mahal\")\n",
    "elif city == \"Jaipur\":\n",
    "    print(\"The monument in Jaipur is Jal Mahal\")\n",
    "elif city == \"Orissa\":\n",
    "    print(\"The monument in Orissa is Konark Temple\")\n",
    "elif city == \"Hyderabad\":\n",
    "    print(\"The monument in Hyderabad is Charminar\")\n",
    "else:\n",
    "    print(\"no record found\")\n",
    "    \n",
    "    \n",
    "\n",
    "    \n"
   ]
  },
  {
   "cell_type": "code",
   "execution_count": 12,
   "id": "4ae351d8-9a7e-49d8-9814-38e42108be90",
   "metadata": {},
   "outputs": [
    {
     "name": "stdin",
     "output_type": "stream",
     "text": [
      "Enter a number:  500\n"
     ]
    },
    {
     "name": "stdout",
     "output_type": "stream",
     "text": [
      "500 x 1 = 500\n",
      "500 x 2 = 1000\n",
      "500 x 3 = 1500\n",
      "500 x 4 = 2000\n",
      "500 x 5 = 2500\n",
      "500 x 6 = 3000\n",
      "500 x 7 = 3500\n",
      "500 x 8 = 4000\n",
      "500 x 9 = 4500\n",
      "500 x 10 = 5000\n"
     ]
    }
   ],
   "source": [
    "num = int(input(\"Enter a number: \"))\n",
    "\n",
    "for i in range (1,11):\n",
    "    print(num, 'x', i, '=', num*i)"
   ]
  },
  {
   "cell_type": "code",
   "execution_count": null,
   "id": "5c4e2b36-6d65-4ba7-a4b4-9ae10bf99c9a",
   "metadata": {},
   "outputs": [],
   "source": []
  }
 ],
 "metadata": {
  "kernelspec": {
   "display_name": "Python 3 (ipykernel)",
   "language": "python",
   "name": "python3"
  },
  "language_info": {
   "codemirror_mode": {
    "name": "ipython",
    "version": 3
   },
   "file_extension": ".py",
   "mimetype": "text/x-python",
   "name": "python",
   "nbconvert_exporter": "python",
   "pygments_lexer": "ipython3",
   "version": "3.12.4"
  }
 },
 "nbformat": 4,
 "nbformat_minor": 5
}
